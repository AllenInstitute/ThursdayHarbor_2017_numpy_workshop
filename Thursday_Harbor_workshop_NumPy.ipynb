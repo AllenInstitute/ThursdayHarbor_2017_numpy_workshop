{
 "metadata": {
  "name": "",
  "signature": "sha256:aa4c9ac3b5d0e8db2766bac303819401c418d93f7eec2ce95b8f6f03ed7da400"
 },
 "nbformat": 3,
 "nbformat_minor": 0,
 "worksheets": [
  {
   "cells": [
    {
     "cell_type": "markdown",
     "metadata": {},
     "source": [
      "# What is an array?"
     ]
    },
    {
     "cell_type": "markdown",
     "metadata": {},
     "source": [
      "*Arrays* are a very useful concept shared by many programming languages. Arrays are:\n",
      "\n",
      "1. Containers that hold many items, all of the same type. \n",
      "2. Represented by a rectangular structure. Arrays may have any number of dimensions, but each dimension (axis) of the array has a fixed length.\n",
      "\n",
      "For example:\n",
      "\n",
      "* A 1D array of 10M samples recorded from an electrode\n",
      "\n",
      "<table style='margin-left: 50px'>\n",
      "<!--<tr><td>0</td><td>1</td><td>2</td><td>3</td><td>4</td><td>5</td><td>&nbsp;&nbsp;.&nbsp;&nbsp;&nbsp;.&nbsp;&nbsp;&nbsp;.&nbsp;&nbsp;</td><td>9999999</td></tr>-->\n",
      "<tr><td>0.0531</td><td>0.0547</td><td>0.0522</td><td>0.0525</td><td>0.0536</td><td>0.0531</td><td>&nbsp;&nbsp;.&nbsp;&nbsp;&nbsp;.&nbsp;&nbsp;&nbsp;.&nbsp;&nbsp;</td><td>0.0530</td></tr>\n",
      "</table>\n",
      "\n",
      "* A 5x5 (2D) matrix\n",
      "\n",
      "<table style='margin-left: 50px'>\n",
      "<tr><td>&nbsp;1&nbsp;</td><td>&nbsp;0&nbsp;</td><td>&nbsp;0&nbsp;</td><td>&nbsp;0&nbsp;</td><td>&nbsp;0&nbsp;</td></tr>\n",
      "<tr><td>&nbsp;0&nbsp;</td><td>&nbsp;1&nbsp;</td><td>&nbsp;0&nbsp;</td><td>&nbsp;0&nbsp;</td><td>&nbsp;0&nbsp;</td></tr>\n",
      "<tr><td>&nbsp;0&nbsp;</td><td>&nbsp;0&nbsp;</td><td>&nbsp;1&nbsp;</td><td>&nbsp;0&nbsp;</td><td>&nbsp;0&nbsp;</td></tr>\n",
      "<tr><td>&nbsp;0&nbsp;</td><td>&nbsp;0&nbsp;</td><td>&nbsp;0&nbsp;</td><td>&nbsp;1&nbsp;</td><td>&nbsp;0&nbsp;</td></tr>\n",
      "<tr><td>&nbsp;0&nbsp;</td><td>&nbsp;0&nbsp;</td><td>&nbsp;0&nbsp;</td><td>&nbsp;0&nbsp;</td><td>&nbsp;1&nbsp;</td></tr>\n",
      "</table>\n",
      "\n",
      "* A 500x500 pixel image with 3 color channels (3D)\n",
      "\n",
      "<img src=\"files/rgb_array.svg\" style=\"margin-left: 50px\">\n",
      "\n",
      "Why are arrays useful?\n",
      "\n",
      "* They are fast\n",
      "* They use memory efficiently\n",
      "* Used correctly, they can make your code more concise\n",
      "\n",
      "Let's use python lists for comparison. Let's say I have a 2D table of numbers, 200 columns x 10k rows.\n",
      "\n",
      "--------------------------------\n"
     ]
    },
    {
     "cell_type": "code",
     "collapsed": false,
     "input": [
      "import random\n",
      "\n",
      "rows = 50000\n",
      "cols = 200\n",
      "\n",
      "# Create a list that is 50,000 rows long, where each item in the list\n",
      "# is a nested list of 200 random values.\n",
      "data = []\n",
      "for i in range(rows):\n",
      "    row = []\n",
      "    for j in range(cols):\n",
      "        row.append(random.random())\n",
      "    data.append(row)\n",
      "\n",
      "    # display a small subset of this \"array\"\n",
      "    if i < 10:\n",
      "        print row[:5]"
     ],
     "language": "python",
     "metadata": {},
     "outputs": [
      {
       "output_type": "stream",
       "stream": "stdout",
       "text": [
        "[0.789451441322371, 0.5674186937677866, 0.35127281433036195, 0.8300547057888141, 0.46883486940094743]\n",
        "[0.6425626612712686, 0.4398470815167853, 0.17917490503475264, 0.17948748583833285, 0.3158781780035549]\n",
        "[0.26946036559626774, 0.8721078775781366, 0.7074701991557677, 0.42553701395808996, 0.4831349967443601]\n",
        "[0.738249399598425, 0.6066999981695832, 0.021216044148900548, 0.060898551341077245, 0.025924633726675195]\n",
        "[0.8487298481018638, 0.7496367743426873, 0.5911663855532474, 0.6901727377998577, 0.41109678097038516]\n",
        "[0.981796754658024, 0.7411170761962873, 0.7325513967211713, 0.4485064451998614, 0.17831828020202245]\n",
        "[0.4000668570458319, 0.9037740376087742, 0.15904609675215842, 0.6888190022972305, 0.5357625267700027]\n",
        "[0.2461023969618069, 0.44485870119116655, 0.047220088999653576, 0.8263257847415608, 0.6510195634516263]\n",
        "[0.34067481572701763, 0.02022568212489073, 0.8339836945504928, 0.0774002961801884, 0.5618724429142521]\n",
        "[0.5241908023288764, 0.09914712753211519, 0.9127630840447836, 0.40406117001464736, 0.15753636516938874]\n"
       ]
      }
     ],
     "prompt_number": 3
    },
    {
     "cell_type": "markdown",
     "metadata": {},
     "source": [
      "--------------------------------\n",
      "\n",
      "I want to calculate the mean value of every column:\n"
     ]
    },
    {
     "cell_type": "code",
     "collapsed": false,
     "input": [
      "# For each column, collect all values in the column and then compute the average.\n",
      "meanvals = []\n",
      "for j in range(cols):\n",
      "    col = [row[j] for row in data]\n",
      "    meanvals.append(sum(col) / rows)\n",
      "    \n",
      "print meanvals[:5]"
     ],
     "language": "python",
     "metadata": {},
     "outputs": [
      {
       "output_type": "stream",
       "stream": "stdout",
       "text": [
        "[0.4996033014688659, 0.5014312094918453, 0.49903937136006454, 0.5009096934925493, 0.4989317497858385]\n"
       ]
      }
     ],
     "prompt_number": 4
    },
    {
     "cell_type": "markdown",
     "metadata": {},
     "source": [
      "--------------------------------\n",
      "This code works, but it is:\n",
      "\n",
      "* Slow - Python lists can contain mixed data types. One consequence is that when we add up values in a column, Python has to check *each* value to make sure it is a numerical type that can be added to the running total. If the array is large, that overhead can add up quickly!\n",
      "\n",
      "* Memory-inefficient - We should be able to represent this data set using `rows * cols = 2e6 numbers`, plus some small overhead. Python lists have about 1kB of memory overhead *per* *list*, which again can add up quickly. If your data just barely fits in memory this, will ruin your day.\n",
      "\n",
      "* Verbose - this very simple task can be written much more compactly with the right tools.\n"
     ]
    },
    {
     "cell_type": "markdown",
     "metadata": {},
     "source": [
      "##NumPy to the rescue\n",
      "\n",
      "NumPy is a third-party Python package used by nearly every other package in the scientific Python stack. It provides a crucial data type--`ndarray`--that allows us to create and manipulate real arrays. NumPy also provides optimized tools for performing many numerical computations on arrays.\n"
     ]
    },
    {
     "cell_type": "code",
     "collapsed": false,
     "input": [
      "import numpy as np\n",
      "\n",
      "data = np.random.random(size=(rows, cols))\n",
      "meanvals = data.mean(axis=0)\n",
      "print meanvals[:5]"
     ],
     "language": "python",
     "metadata": {},
     "outputs": [
      {
       "output_type": "stream",
       "stream": "stdout",
       "text": [
        "[ 0.50107993  0.49789091  0.49719711  0.50197062  0.50014078]\n"
       ]
      }
     ],
     "prompt_number": 5
    },
    {
     "cell_type": "markdown",
     "metadata": {},
     "source": [
      "* https://docs.scipy.org/doc/numpy-dev/reference/generated/numpy.random.random.html\n",
      "* https://docs.scipy.org/doc/numpy/reference/generated/numpy.ndarray.mean.html\n",
      "\n",
      "---------------------------\n",
      "These three lines of code replace the 16 lines that it took to perform this operation with lists, and it runs in a small fraction of the time. \n",
      "\n",
      "Let's explore the `data` object we just created:"
     ]
    },
    {
     "cell_type": "code",
     "collapsed": false,
     "input": [
      "# numpy arrays have a set number of dimensions:\n",
      "data.ndim"
     ],
     "language": "python",
     "metadata": {},
     "outputs": [
      {
       "metadata": {},
       "output_type": "pyout",
       "prompt_number": 7,
       "text": [
        "2"
       ]
      }
     ],
     "prompt_number": 7
    },
    {
     "cell_type": "code",
     "collapsed": false,
     "input": [
      "# each dimension has a specific length\n",
      "data.shape"
     ],
     "language": "python",
     "metadata": {},
     "outputs": [
      {
       "metadata": {},
       "output_type": "pyout",
       "prompt_number": 8,
       "text": [
        "(50000, 200)"
       ]
      }
     ],
     "prompt_number": 8
    },
    {
     "cell_type": "code",
     "collapsed": false,
     "input": [
      "# The total number of items in this array (200 * 50k) is given by the `size` attribute\n",
      "data.size"
     ],
     "language": "python",
     "metadata": {},
     "outputs": [
      {
       "metadata": {},
       "output_type": "pyout",
       "prompt_number": 11,
       "text": [
        "10000000"
       ]
      }
     ],
     "prompt_number": 11
    },
    {
     "cell_type": "code",
     "collapsed": false,
     "input": [
      "# The array's memory usage is the number of items (200 * 50k)\n",
      "# times the number of bytes used by each item\n",
      "data.size * data.itemsize"
     ],
     "language": "python",
     "metadata": {},
     "outputs": [
      {
       "metadata": {},
       "output_type": "pyout",
       "prompt_number": 10,
       "text": [
        "80000000"
       ]
      }
     ],
     "prompt_number": 10
    },
    {
     "cell_type": "markdown",
     "metadata": {},
     "source": [
      "----------------------------\n",
      "This array uses 80MB of memory to represent 10M values. Why do we use 8 bytes for each item?"
     ]
    },
    {
     "cell_type": "code",
     "collapsed": false,
     "input": [
      "# all items in the array share the same data type\n",
      "data.dtype"
     ],
     "language": "python",
     "metadata": {},
     "outputs": [
      {
       "metadata": {},
       "output_type": "pyout",
       "prompt_number": 12,
       "text": [
        "dtype('float64')"
       ]
      }
     ],
     "prompt_number": 12
    },
    {
     "cell_type": "markdown",
     "metadata": {},
     "source": [
      "-----------------------------\n",
      "\n",
      "All elements in the array are of the same data type, a 64-bit (8 byte) floating-point number.\n",
      "\n",
      "This is the default *dtype*, but there are many other options we can pick from. Whether we *care* enough to worry about dtype depends on what we want to *do* with the array, and whether we are likely to run out of memory.\n",
      "\n",
      "| dtype  | itemsize  | precision  | approx. range       |\n",
      "|--------|-----------|------------|---------------------|\n",
      "|float64 | 8         | 16         | \u00b110<sup>308</sup>   |\n",
      "|float32 | 4         | 7          | \u00b110<sup>38</sup>    |\n",
      "|int64   | 8         | 0          | \u00b110<sup>18</sup>    |\n",
      "|int32   | 4         | 0          | \u00b110<sup>9</sup>     |\n",
      "|int16   | 2         | 0          | \u00b110<sup>4</sup>     |\n",
      "|uint64  | 8         | 0          | 0 to 10<sup>19</sup>|\n",
      "|uint32  | 4         | 0          | 0 to 10<sup>9</sup> |\n",
      "|uint16  | 2         | 0          | 0 to 10<sup>4</sup> |\n",
      "|byte    | 1         | 0          | 0-255               |\n",
      "|bool    | 1         | 0          | 0-1                 |\n",
      "\n",
      "* https://docs.scipy.org/doc/numpy-1.10.1/user/basics.types.html\n",
      "\n",
      "----------------------\n",
      "\n",
      "To convert the array to a different dtype, use the *astype()* method."
     ]
    },
    {
     "cell_type": "code",
     "collapsed": false,
     "input": [
      "smaller_data = data.astype('float32')\n",
      "\n",
      "# This should be half the size of the original array\n",
      "smaller_data.size * smaller_data.itemsize"
     ],
     "language": "python",
     "metadata": {},
     "outputs": [
      {
       "metadata": {},
       "output_type": "pyout",
       "prompt_number": 15,
       "text": [
        "40000000"
       ]
      }
     ],
     "prompt_number": 15
    },
    {
     "cell_type": "code",
     "collapsed": false,
     "input": [],
     "language": "python",
     "metadata": {},
     "outputs": []
    }
   ],
   "metadata": {}
  }
 ]
}