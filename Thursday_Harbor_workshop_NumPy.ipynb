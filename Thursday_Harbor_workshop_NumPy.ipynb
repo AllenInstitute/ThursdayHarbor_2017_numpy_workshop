{
 "metadata": {
  "name": "",
  "signature": "sha256:926524b12f71f1bc8711933a30756e2716698c92cc6ff2684fd07a28ee9717f0"
 },
 "nbformat": 3,
 "nbformat_minor": 0,
 "worksheets": [
  {
   "cells": [
    {
     "cell_type": "markdown",
     "metadata": {},
     "source": [
      "# What is an array?"
     ]
    },
    {
     "cell_type": "markdown",
     "metadata": {},
     "source": [
      "*Arrays* are a very useful concept shared by many programming languages. Arrays are:\n",
      "\n",
      "1. Containers that hold many items, all of the same type. \n",
      "2. Represented by a rectangular structure. Arrays may have any number of dimensions, but each dimension (axis) of the array has a fixed length.\n",
      "\n",
      "For example:\n",
      "\n",
      "* A 1D array of 10M samples recorded from an electrode\n",
      "\n",
      "<table style='margin-left: 50px'>\n",
      "<!--<tr><td>0</td><td>1</td><td>2</td><td>3</td><td>4</td><td>5</td><td>&nbsp;&nbsp;.&nbsp;&nbsp;&nbsp;.&nbsp;&nbsp;&nbsp;.&nbsp;&nbsp;</td><td>9999999</td></tr>-->\n",
      "<tr><td>0.0531</td><td>0.0547</td><td>0.0522</td><td>0.0525</td><td>0.0536</td><td>0.0531</td><td>&nbsp;&nbsp;.&nbsp;&nbsp;&nbsp;.&nbsp;&nbsp;&nbsp;.&nbsp;&nbsp;</td><td>0.0530</td></tr>\n",
      "</table>\n",
      "\n",
      "* A 5x5 (2D) matrix\n",
      "\n",
      "<table style='margin-left: 50px'>\n",
      "<tr><td>&nbsp;1&nbsp;</td><td>&nbsp;0&nbsp;</td><td>&nbsp;0&nbsp;</td><td>&nbsp;0&nbsp;</td><td>&nbsp;0&nbsp;</td></tr>\n",
      "<tr><td>&nbsp;0&nbsp;</td><td>&nbsp;1&nbsp;</td><td>&nbsp;0&nbsp;</td><td>&nbsp;0&nbsp;</td><td>&nbsp;0&nbsp;</td></tr>\n",
      "<tr><td>&nbsp;0&nbsp;</td><td>&nbsp;0&nbsp;</td><td>&nbsp;1&nbsp;</td><td>&nbsp;0&nbsp;</td><td>&nbsp;0&nbsp;</td></tr>\n",
      "<tr><td>&nbsp;0&nbsp;</td><td>&nbsp;0&nbsp;</td><td>&nbsp;0&nbsp;</td><td>&nbsp;1&nbsp;</td><td>&nbsp;0&nbsp;</td></tr>\n",
      "<tr><td>&nbsp;0&nbsp;</td><td>&nbsp;0&nbsp;</td><td>&nbsp;0&nbsp;</td><td>&nbsp;0&nbsp;</td><td>&nbsp;1&nbsp;</td></tr>\n",
      "</table>\n",
      "\n",
      "* A 500x500 pixel image with 3 color channels (3D)\n",
      "\n",
      "<img src=\"files/rgb_array.svg\" style=\"margin-left: 50px\">\n",
      "\n",
      "<br>\n",
      "<div class=\"alert alert-block alert-warning\">\n",
      "https://docs.scipy.org/doc/numpy/reference/arrays.ndarray.html\n",
      "</div>\n",
      "\n",
      "\n",
      "## Why are arrays useful?\n",
      "\n",
      "* They are fast\n",
      "* They use memory efficiently\n",
      "* Used correctly, they can make your code more concise\n",
      "\n",
      "In principle, we could create multi-dimensional array-like structures simply by nesting Python lists together. In practice, this approach is tedious and inefficient.\n",
      "\n",
      "As an example, let's try constructing a 2D array out of nested Python lists, and compare this approach to using NumPy arrays. \n",
      "I will build an \"array\" of random numbers that is 200 columns x 10k rows:\n"
     ]
    },
    {
     "cell_type": "code",
     "collapsed": false,
     "input": [
      "import random\n",
      "\n",
      "rows = 50000\n",
      "cols = 200\n",
      "\n",
      "# Create a list that is 50,000 rows long, where each item in the list\n",
      "# is a nested list of 200 random values.\n",
      "data = []\n",
      "for i in range(rows):\n",
      "    row = []\n",
      "    for j in range(cols):\n",
      "        row.append(random.random())\n",
      "    data.append(row)\n",
      "\n",
      "    # display a small subset of this \"array\"\n",
      "    if i < 10:\n",
      "        print row[:5]"
     ],
     "language": "python",
     "metadata": {},
     "outputs": []
    },
    {
     "cell_type": "markdown",
     "metadata": {},
     "source": [
      "--------------------------------\n",
      "\n",
      "Now I want to calculate the mean value of every column:\n"
     ]
    },
    {
     "cell_type": "code",
     "collapsed": false,
     "input": [
      "# For each column, collect all values in the column and then compute the average.\n",
      "meanvals = []\n",
      "for j in range(cols):\n",
      "    col = [row[j] for row in data]\n",
      "    meanvals.append(sum(col) / rows)\n",
      "    \n",
      "print meanvals[:5]"
     ],
     "language": "python",
     "metadata": {},
     "outputs": []
    },
    {
     "cell_type": "markdown",
     "metadata": {},
     "source": [
      "--------------------------------\n",
      "This code works, but it is:\n",
      "\n",
      "* Slow - Python lists can contain mixed data types. One consequence is that when we add up values in a column, Python has to check *each* value to make sure it is a numerical type that can be added to the running total. If the array is large, that overhead can add up quickly!\n",
      "\n",
      "* Memory-inefficient - We should be able to represent this data set using `rows * cols = 2e6 numbers`, plus some small overhead. Python lists have about 1kB of memory overhead *per* *list*, which again can add up quickly. If your data just barely fits in memory, this will ruin your day.\n",
      "\n",
      "* Verbose - this very simple task can be written much more compactly with the right tools.\n"
     ]
    },
    {
     "cell_type": "markdown",
     "metadata": {},
     "source": [
      "##NumPy to the rescue\n",
      "\n",
      "NumPy is a third-party Python package used by nearly every other package in the scientific Python stack. It provides a crucial data type--`ndarray`--that allows us to create and manipulate real multi-dimensional arrays. NumPy also provides optimized tools for performing many numerical computations on arrays.\n"
     ]
    },
    {
     "cell_type": "code",
     "collapsed": false,
     "input": [
      "import numpy as np\n",
      "\n",
      "data = np.random.random(size=(rows, cols))\n",
      "meanvals = data.mean(axis=0)\n",
      "print meanvals[:5]"
     ],
     "language": "python",
     "metadata": {},
     "outputs": []
    },
    {
     "cell_type": "markdown",
     "metadata": {},
     "source": [
      "These three lines of code replace the 16 lines that it took to perform the same operation with lists, and it runs in a small fraction of the time. \n",
      "\n",
      "<br>\n",
      "<div class=\"alert alert-block alert-warning\">\n",
      "https://docs.scipy.org/doc/numpy-dev/reference/generated/numpy.random.random.html<br>\n",
      "https://docs.scipy.org/doc/numpy/reference/generated/numpy.ndarray.mean.html\n",
      "</div>\n",
      "\n",
      "---------------------------\n",
      "\n",
      "Let's explore the array object we just created:"
     ]
    },
    {
     "cell_type": "code",
     "collapsed": false,
     "input": [
      "# numpy arrays have a set number of dimensions:\n",
      "data.ndim"
     ],
     "language": "python",
     "metadata": {},
     "outputs": []
    },
    {
     "cell_type": "code",
     "collapsed": false,
     "input": [
      "# each dimension has a specific length\n",
      "data.shape"
     ],
     "language": "python",
     "metadata": {},
     "outputs": []
    },
    {
     "cell_type": "code",
     "collapsed": false,
     "input": [
      "# The total number of items in this array (200 * 50k) is given by the `size` attribute\n",
      "data.size"
     ],
     "language": "python",
     "metadata": {},
     "outputs": []
    },
    {
     "cell_type": "code",
     "collapsed": false,
     "input": [
      "# The array's memory usage is the number of items (200 * 50k)\n",
      "# times the number of bytes used by each item\n",
      "data.size * data.itemsize"
     ],
     "language": "python",
     "metadata": {},
     "outputs": []
    },
    {
     "cell_type": "markdown",
     "metadata": {},
     "source": [
      "<br>\n",
      "This array uses 80MB of memory to represent 10M values. Why do we use 8 bytes for each item?"
     ]
    },
    {
     "cell_type": "code",
     "collapsed": false,
     "input": [
      "# all items in the array share the same data type\n",
      "data.dtype"
     ],
     "language": "python",
     "metadata": {},
     "outputs": []
    },
    {
     "cell_type": "markdown",
     "metadata": {},
     "source": [
      "All elements in the array are of the same data type, a 64-bit (8 byte) floating-point number.\n",
      "\n",
      "This is the default *dtype*, but there are many other options we can pick from. Whether we *care* enough to worry about dtype depends on what we want to do with the array, and whether we are likely to run out of memory. Some of the most commonly used dtypes are listed here:\n",
      "\n",
      "| dtype  | bytes     | precision  | approx. range       |\n",
      "|--------|-----------|------------|---------------------|\n",
      "|float64 | 8         | 16         | \u00b110<sup>308</sup>   |\n",
      "|float32 | 4         | 7          | \u00b110<sup>38</sup>    |\n",
      "|int64   | 8         | 0          | \u00b110<sup>18</sup>    |\n",
      "|int32   | 4         | 0          | \u00b110<sup>9</sup>     |\n",
      "|int16   | 2         | 0          | \u00b110<sup>4</sup>     |\n",
      "|uint64  | 8         | 0          | 0 to 10<sup>19</sup>|\n",
      "|uint32  | 4         | 0          | 0 to 10<sup>9</sup> |\n",
      "|uint16  | 2         | 0          | 0 to 10<sup>4</sup> |\n",
      "|uint8   | 1         | 0          | 0-255               |\n",
      "|bool    | 1         | 0          | 0-1                 |\n",
      "\n",
      "<br>\n",
      "<div class=\"alert alert-block alert-warning\">\n",
      "All dtypes: https://docs.scipy.org/doc/numpy-1.10.1/user/basics.types.html<br>\n",
      "All ndarray attributes: https://docs.scipy.org/doc/numpy/reference/generated/numpy.ndarray.html\n",
      "</div>\n",
      "\n",
      "----------------------\n",
      "\n",
      "To convert an array to a different dtype, use the *astype()* method."
     ]
    },
    {
     "cell_type": "code",
     "collapsed": false,
     "input": [
      "smaller_data = data.astype('float32')\n",
      "\n",
      "# This should be half the size of the original array\n",
      "smaller_data.size * smaller_data.itemsize"
     ],
     "language": "python",
     "metadata": {},
     "outputs": []
    },
    {
     "cell_type": "markdown",
     "metadata": {},
     "source": [
      "##Creating new arrays\n",
      "\n",
      "NumPy offers several mechanisms for creating new arrays. Let's look at a few of the more common approaches:\n",
      "\n",
      "-----------------------\n",
      "\n",
      "**Nested lists**"
     ]
    },
    {
     "cell_type": "code",
     "collapsed": false,
     "input": [
      "# Create an array from nested lists.\n",
      "data = [[1,2], [3,4], [5,6], [7,8]]\n",
      "arr1 = np.array(data)\n",
      "print arr1"
     ],
     "language": "python",
     "metadata": {},
     "outputs": []
    },
    {
     "cell_type": "code",
     "collapsed": false,
     "input": [
      "# `data` is a list of length 4, and each of its items is a nested list of length 2.\n",
      "# This corresponds to an array shape (4, 2)\n",
      "arr1.shape"
     ],
     "language": "python",
     "metadata": {},
     "outputs": []
    },
    {
     "cell_type": "markdown",
     "metadata": {},
     "source": [
      "-------------------------\n",
      "**zeros()**"
     ]
    },
    {
     "cell_type": "code",
     "collapsed": false,
     "input": [
      "# Create an array of a certain shape and dtype, filled with zeros\n",
      "arr2 = np.zeros((5, 10), dtype='uint16')\n",
      "print arr2\n",
      "print \"shape:\", arr2.shape, \"dtype:\", arr2.dtype"
     ],
     "language": "python",
     "metadata": {},
     "outputs": []
    },
    {
     "cell_type": "markdown",
     "metadata": {},
     "source": [
      "-------------------------\n",
      "**arange()**"
     ]
    },
    {
     "cell_type": "code",
     "collapsed": false,
     "input": [
      "# Create a 1D array of consecutive integers \n",
      "print np.arange(5, 11)"
     ],
     "language": "python",
     "metadata": {},
     "outputs": []
    },
    {
     "cell_type": "markdown",
     "metadata": {},
     "source": [
      "-----------------------\n",
      "\n",
      "**fromfunction()**"
     ]
    },
    {
     "cell_type": "code",
     "collapsed": false,
     "input": [
      "# Create an array and fill it with values generated by a function.\n",
      "# For each element in the new array, the function will be called with the element's indices as its arguments.\n",
      "def gauss(x, y, center=(5, 5), sigma=3.5):\n",
      "    dist = ((x-center[0])**2 + (y-center[1])**2) ** 0.5\n",
      "    return 100 * np.exp(-dist**2 / sigma)\n",
      "\n",
      "arr3 = np.fromfunction(gauss, (10, 10))\n",
      "print arr3.astype('int')  # convert to int for easier reading"
     ],
     "language": "python",
     "metadata": {},
     "outputs": []
    },
    {
     "cell_type": "code",
     "collapsed": false,
     "input": [
      "# let's visualize that array as an image\n",
      "from matplotlib.pylab import imshow, plot, scatter\n",
      "%matplotlib inline\n",
      "imshow(arr3, interpolation='none', cmap='magma')"
     ],
     "language": "python",
     "metadata": {},
     "outputs": []
    },
    {
     "cell_type": "markdown",
     "metadata": {},
     "source": [
      "\n",
      "<br>\n",
      "<div class=\"alert alert-block alert-warning\">\n",
      "https://docs.scipy.org/doc/numpy/reference/routines.array-creation.html\n",
      "</div>\n",
      "\n",
      "-------------------\n",
      "\n",
      "\n",
      "##Accessing single values from arrays"
     ]
    },
    {
     "cell_type": "code",
     "collapsed": false,
     "input": [
      "# Create a small array to play with\n",
      "arr4 = np.array([[1,2,3,4,5], [6,7,8,9,10], [11,12,13,14,15]])\n",
      "print arr4"
     ],
     "language": "python",
     "metadata": {},
     "outputs": []
    },
    {
     "cell_type": "code",
     "collapsed": false,
     "input": [
      "# To read a single value from the array, we index the array using [] notation\n",
      "# and supply a comma-separated list of indices, one per axis\n",
      "print arr4[2, 3]"
     ],
     "language": "python",
     "metadata": {},
     "outputs": []
    },
    {
     "cell_type": "code",
     "collapsed": false,
     "input": [
      "# To change one value in the array:\n",
      "arr4[1, 2] = -1\n",
      "print arr4"
     ],
     "language": "python",
     "metadata": {},
     "outputs": []
    },
    {
     "cell_type": "code",
     "collapsed": false,
     "input": [
      "#######################  Exercise  #######################\n",
      "#\n",
      "# Create a new array and write a for-loop that sets each\n",
      "# item equal to the corresponding item in `arr4` plus one.\n",
      "# Put another way:\n",
      "#     new_arr[i,j] == arr4[i, j] + 1\n"
     ],
     "language": "python",
     "metadata": {},
     "outputs": []
    },
    {
     "cell_type": "markdown",
     "metadata": {},
     "source": [
      "<br>\n",
      "<div class=\"alert alert-block alert-warning\">\n",
      "https://docs.scipy.org/doc/numpy/reference/arrays.indexing.html\n",
      "</div>\n",
      "\n",
      "##Arithmetic with arrays"
     ]
    },
    {
     "cell_type": "markdown",
     "metadata": {},
     "source": [
      "In the exercise above, you used a nested for-loop to access each element of an array, one at a time. This is fine for small arrays, but for large arrays we would be executing many Python statements, each of which has a significant performance cost. \n",
      "\n",
      "NumPy provides a way to express this operation (and many others) using a single Python statement:"
     ]
    },
    {
     "cell_type": "code",
     "collapsed": false,
     "input": [
      "# Start with a 1D array of integers 0 through 7\n",
      "arr5 = np.arange(8)\n",
      "print arr5\n",
      "\n",
      "# Create a new array by adding 2 to each element of arr5\n",
      "arr6 = arr5 + 2\n",
      "print arr6"
     ],
     "language": "python",
     "metadata": {},
     "outputs": []
    },
    {
     "cell_type": "markdown",
     "metadata": {},
     "source": [
      "<br>\n",
      "This process--replacing nested for-loops with array operations--is called *vectorization*. It both speeds up our code and makes it easier to read and write.\n",
      "\n",
      "------------------------\n",
      "\n",
      "It is also possible to modify an existing array in-place, rather than creating a new array:"
     ]
    },
    {
     "cell_type": "code",
     "collapsed": false,
     "input": [
      "# subtract 2 directly from each element in arr6; do not create a new array\n",
      "arr6 -= 2\n",
      "print arr6"
     ],
     "language": "python",
     "metadata": {},
     "outputs": []
    },
    {
     "cell_type": "markdown",
     "metadata": {},
     "source": [
      "<div class=\"alert alert-block alert-info\">**Note:** most functions in numpy will either *create* and return a new array, or *modify* an existing array in-place. Keep track of which of these is happening in your code, and look for this whenever you read the documentation.</div>"
     ]
    },
    {
     "cell_type": "code",
     "collapsed": false,
     "input": [
      "#######################  Exercise  #######################\n",
      "#\n",
      "# Create a 1D array that contains (2^x - 1) for integer\n",
      "# values of x from 0 to 10. For example, the first 3 items\n",
      "# are:\n",
      "#   2^0 - 1 = -1\n",
      "#   2^1 - 1 = 1\n",
      "#   2^2 - 1 = 3\n",
      "# For this exercise, do not use for-loops or `fromfunction()`\n",
      "#\n",
      "#  Note: the exponent operator in Python is two asterisks: **\n"
     ],
     "language": "python",
     "metadata": {},
     "outputs": []
    },
    {
     "cell_type": "markdown",
     "metadata": {},
     "source": [
      "We have just seen an example of arithmetic between an array and a scalar (single value). It is also possible to perform arithmetic element-wise between two arrays:"
     ]
    },
    {
     "cell_type": "code",
     "collapsed": false,
     "input": [
      "# Create a new array `arr7` where each item is the product of the corresponding items in `arr5` and `arr6`\n",
      "arr7 = arr5 * arr6\n",
      "print arr7"
     ],
     "language": "python",
     "metadata": {},
     "outputs": []
    },
    {
     "cell_type": "code",
     "collapsed": false,
     "input": [
      "# We can do the same with arrays of any dimension\n",
      "arr8 = np.array([[1, 2], [3, 4]])\n",
      "arr9 = np.array([[10, 10], [20, 20]])\n",
      "print arr8 * arr9"
     ],
     "language": "python",
     "metadata": {},
     "outputs": []
    },
    {
     "cell_type": "markdown",
     "metadata": {},
     "source": [
      "<div class=\"alert alert-block alert-info\">\n",
      "Note: in the above example, the arrays are multiplied *elementwise*; this is not a dot-product!<br><br>\n",
      "\n",
      "This is a frequent point of confusion for MATLAB users. Whereas MATLAB began life as a linear algebra system, NumPy was designed as a more general-purpose numerical computation system. For those interested in using NumPy for linear algebra, read about *numpy.matrix*, which provides a special type of *ndarrray* for this purpose.<br><br>\n",
      "\n",
      "<div class=\"alert alert-block alert-warning\">\n",
      "https://docs.scipy.org/doc/numpy/reference/generated/numpy.matrix.html\n",
      "</div>\n",
      "</div>"
     ]
    },
    {
     "cell_type": "markdown",
     "metadata": {},
     "source": [
      "**Boolean operations**\n",
      "\n",
      "In addition to the arithmetic operators available with numpy arrays (+ - \\* / \\*\\*), most boolean (true/false) and comparison operators may be used as well. As before, these operators are applied elementwise, returning an array of boolean values:"
     ]
    },
    {
     "cell_type": "code",
     "collapsed": false,
     "input": [
      "arr10 = np.arange(10)\n",
      "\n",
      "# generate a boolean array that contains True wherever arr10 is greater than 5\n",
      "arr11 = arr10 > 5\n",
      "print arr11"
     ],
     "language": "python",
     "metadata": {},
     "outputs": []
    },
    {
     "cell_type": "code",
     "collapsed": false,
     "input": [
      "# Combine two boolean arrays using an elementwise OR operator:\n",
      "print (arr10 < 3) | (arr10 > 7)"
     ],
     "language": "python",
     "metadata": {},
     "outputs": []
    },
    {
     "cell_type": "code",
     "collapsed": false,
     "input": [
      "# Combine two boolean arrays using an elementwise AND operator:\n",
      "print (arr10 > 3) & (arr10 < 7)"
     ],
     "language": "python",
     "metadata": {},
     "outputs": []
    },
    {
     "cell_type": "markdown",
     "metadata": {},
     "source": [
      "<br>\n",
      "Later on, we will see how we can use boolean arrays like these to select (or mask) values from the original data.\n",
      "<br><br>"
     ]
    },
    {
     "cell_type": "markdown",
     "metadata": {},
     "source": [
      "**Other mathematical functions**\n",
      "\n",
      "NumPy includes an extensive library of mathematical functions that operate on arrays. The full list can be found here:\n",
      "https://docs.scipy.org/doc/numpy/reference/routines.math.html\n",
      "\n",
      "Let's look at just a couple of the most commonly used functions:"
     ]
    },
    {
     "cell_type": "code",
     "collapsed": false,
     "input": [
      "# Generate an array containing e^x for several values of x\n",
      "print np.exp(arr10)"
     ],
     "language": "python",
     "metadata": {},
     "outputs": []
    },
    {
     "cell_type": "code",
     "collapsed": false,
     "input": [
      "#######################  Exercise  #######################\n",
      "#\n",
      "# Show a plot of a sine wave. \n",
      "#\n",
      "# Suggested strategy:\n",
      "#  1. Create an array of time (or phase) values using  \n",
      "#     np.arange() multiplied by a scale factor\n",
      "#  2. Compute the sine of this array using np.sin()\n",
      "#  3. Plot the result using plot(), which was previously\n",
      "#     imported from matplotlib \n"
     ],
     "language": "python",
     "metadata": {},
     "outputs": []
    },
    {
     "cell_type": "markdown",
     "metadata": {},
     "source": [
      "<br>\n",
      "<div class=\"alert alert-block alert-warning\">\n",
      "https://docs.scipy.org/doc/numpy/reference/routines.math.html\n",
      "</div>"
     ]
    },
    {
     "cell_type": "markdown",
     "metadata": {},
     "source": [
      "##Accessing array sub-regions (slicing)\n",
      "\n",
      "When dealing with arrays, it is common that we will want to select a specific sub-region of the array. This allows us to either extract a portion of the original data for focused analysis, or to modify a selected portion of the original array.\n",
      "\n",
      "We can select a subregion of an array using indexing and slice notation, exactly as we would with a list:"
     ]
    },
    {
     "cell_type": "code",
     "collapsed": false,
     "input": [
      "# To start simple, let's just take a 1D array and slice it up a few different ways\n",
      "arr12 = np.arange(20)\n",
      "print arr12"
     ],
     "language": "python",
     "metadata": {},
     "outputs": []
    },
    {
     "cell_type": "code",
     "collapsed": false,
     "input": [
      "# Take a slice from index 5 until 15\n",
      "print arr12[5:15]"
     ],
     "language": "python",
     "metadata": {},
     "outputs": []
    },
    {
     "cell_type": "code",
     "collapsed": false,
     "input": [
      "# Slice from the beginning until the 7th element\n",
      "print arr12[:7]"
     ],
     "language": "python",
     "metadata": {},
     "outputs": []
    },
    {
     "cell_type": "code",
     "collapsed": false,
     "input": [
      "# Slice from the 11th element until the end\n",
      "print arr12[11:]"
     ],
     "language": "python",
     "metadata": {},
     "outputs": []
    },
    {
     "cell_type": "code",
     "collapsed": false,
     "input": [
      "# Extract the last 5 elements\n",
      "print arr12[-5:]"
     ],
     "language": "python",
     "metadata": {},
     "outputs": []
    },
    {
     "cell_type": "markdown",
     "metadata": {},
     "source": [
      "--------------------------\n",
      "Note that when we slice an array, the original array is unchanged. However, the new array that we create is actually a *view* on the original array. No data is copied when the view is created. This means that modifications made to either array will be visible from both:"
     ]
    },
    {
     "cell_type": "code",
     "collapsed": false,
     "input": [
      "arr13 = arr12[5:15]\n",
      "\n",
      "# modify these arrays\n",
      "arr12[5] = -1\n",
      "arr13[9] = -2\n",
      "\n",
      "# both arrays are a view on the same underlying memory, and thus changes\n",
      "# made to either one are apparent in both\n",
      "print arr12\n",
      "print arr13"
     ],
     "language": "python",
     "metadata": {},
     "outputs": []
    },
    {
     "cell_type": "markdown",
     "metadata": {},
     "source": [
      "This is the default behavior because it provides the best performance, although it requires some care on the part of the programmer to ensure data is not inadvertently modified. To avoid such unwanted side effects, it is sometimes necessary to copy an array before modifying it: "
     ]
    },
    {
     "cell_type": "code",
     "collapsed": false,
     "input": [
      "# copy the array and discard the view\n",
      "arr13 = arr13.copy()\n",
      "\n",
      "# these two arrays are completely independent; changes made to one are not\n",
      "# reflected in the other\n",
      "arr12[14] = 14\n",
      "arr13[0] = 5\n",
      "\n",
      "print arr12\n",
      "print arr13"
     ],
     "language": "python",
     "metadata": {},
     "outputs": []
    },
    {
     "cell_type": "markdown",
     "metadata": {},
     "source": [
      "-------------------\n",
      "One major difference between lists and arrays is that we may index or slice multiple axes simultaneously:"
     ]
    },
    {
     "cell_type": "code",
     "collapsed": false,
     "input": [
      "# Start with a 3D array\n",
      "arr14 = np.arange(6000).reshape(40, 50, 3)\n",
      "\n",
      "# This array has shape (40, 50, 3). Let's take a slice that contains:\n",
      "#  * all rows (along axis 0)\n",
      "#  * columns 10-19 (along axis 1)\n",
      "#  * only the second channel (along axis 2)\n",
      "arr15 = arr14[:, 10:20, 1]"
     ],
     "language": "python",
     "metadata": {},
     "outputs": []
    },
    {
     "cell_type": "markdown",
     "metadata": {},
     "source": [
      "<div class=\"alert alert-block alert-info\">\n",
      "**Note:** When we **slice** an axis, the resulting array will have the same axis, but of a different length.\n",
      "When we **index** an axis, that axis is no longer present in the result.\n",
      "</div>"
     ]
    },
    {
     "cell_type": "code",
     "collapsed": false,
     "input": [
      "#######################  Exercise  #######################\n",
      "#\n",
      "# Try to guess what the shape of arr15 will be before\n",
      "# running this cell\n",
      "print arr15.shape"
     ],
     "language": "python",
     "metadata": {},
     "outputs": []
    },
    {
     "cell_type": "markdown",
     "metadata": {},
     "source": [
      "------------------------\n",
      "Another major difference between lists and arrays is that, with arrays, we can actually assign new values to a slice of the array:"
     ]
    },
    {
     "cell_type": "code",
     "collapsed": false,
     "input": [
      "arr16 = np.arange(18)\n",
      "\n",
      "# Assign -1 to a block in the middle of arr16\n",
      "arr16[7:12] = -1\n",
      "print arr16"
     ],
     "language": "python",
     "metadata": {},
     "outputs": []
    },
    {
     "cell_type": "code",
     "collapsed": false,
     "input": [
      "# Assign an array to fill up the middle of arr16\n",
      "arr16[7:12] = np.arange(107, 112)\n",
      "print arr16"
     ],
     "language": "python",
     "metadata": {},
     "outputs": []
    },
    {
     "cell_type": "code",
     "collapsed": false,
     "input": [
      "# We can also do in-place arithmetic on array slices\n",
      "arr16[7:12] *= -1\n",
      "print arr16"
     ],
     "language": "python",
     "metadata": {},
     "outputs": []
    },
    {
     "cell_type": "markdown",
     "metadata": {},
     "source": [
      "<br>\n",
      "<div class=\"alert alert-block alert-warning\">\n",
      "https://docs.scipy.org/doc/numpy/reference/arrays.indexing.html\n",
      "</div>\n",
      "\n",
      "------------------------------\n",
      "\n",
      "\n",
      "##Array reduction\n",
      "\n",
      "NumPy has many functions for performing mathematical operations on arrays. Earlier, we used *exp()* and *sin()* to create new arrays by performing these operations elementwise; that is, the output arrays had the same shape as their input arrays. \n",
      "\n",
      "Another group of mathematical functions takes an array as input and returns either a scalar or an array with one fewer dimension than the input. This process is called *reduction*."
     ]
    },
    {
     "cell_type": "markdown",
     "metadata": {},
     "source": [
      "###Reduction methods: **min()**, **max()**, **mean()**, and **std()**\n",
      "\n",
      "The most common reductions are available as array methods \n",
      "(we access them by writing *data.method()* as opposed to *np.function(data)*)"
     ]
    },
    {
     "cell_type": "code",
     "collapsed": false,
     "input": [
      "# For this example, we will read a CSV file containing electrode recordings from\n",
      "# a patch clamp experiment.\n",
      "data = np.loadtxt(\"sweeps.csv\", delimiter=\",\", skiprows=1)\n",
      "print data.shape"
     ],
     "language": "python",
     "metadata": {},
     "outputs": []
    },
    {
     "cell_type": "code",
     "collapsed": false,
     "input": [
      "# The *data* array contains 11 columns. The first column contains time values, \n",
      "# and the rest contain electrode data recorded from 10 consecutive trials.\n",
      "\n",
      "# Separate time values from the rest of the data\n",
      "tvals = data[:, 0]\n",
      "data = data[:, 1:]\n",
      "\n",
      "# Plot all sweeps overlaid\n",
      "plot(tvals, data);"
     ],
     "language": "python",
     "metadata": {},
     "outputs": []
    },
    {
     "cell_type": "code",
     "collapsed": false,
     "input": [
      "# Print some statistics on the entire dataset \n",
      "print \"min:\", data.min(), \"  max:\", data.max(), \"  mean:\", data.mean(), \"  stdev:\", data.std()"
     ],
     "language": "python",
     "metadata": {},
     "outputs": []
    },
    {
     "cell_type": "code",
     "collapsed": false,
     "input": [
      "# If the array is multi-dimensional, we may optionally specify an *axis* over which the reduction should be applied.\n",
      "\n",
      "# Compute the mean value from each recording\n",
      "# (average all values along axis 0)\n",
      "print \"Mean of each recording:\", data.mean(axis=0)\n",
      "\n",
      "# For each time point, compute (and plot) the average values across all recordings\n",
      "# (mean of all values along axis 1)\n",
      "print \"\\nAverage values across all 10 recordings:\"\n",
      "plot(tvals, data.mean(axis=1));"
     ],
     "language": "python",
     "metadata": {},
     "outputs": []
    },
    {
     "cell_type": "markdown",
     "metadata": {},
     "source": [
      "###Reduction functions: **median()**, **sum()**, **argmin()**, and **argmax()**"
     ]
    },
    {
     "cell_type": "code",
     "collapsed": false,
     "input": [
      "# Only the most common reductions are available as array methods.\n",
      "# Many more are regular functions defined in the numpy package\n",
      "# (use np.function_name() to access them)\n",
      "print \"Median value of all samples up to 10ms:\", np.median(data[:25])\n",
      "print \"Sum (area under curve) for each recording:\", np.sum(data, axis=0)"
     ],
     "language": "python",
     "metadata": {},
     "outputs": []
    },
    {
     "cell_type": "code",
     "collapsed": false,
     "input": [
      "# Another useful set of functions gives the _index_ within\n",
      "# an array where certain features occur:\n",
      "print \"Minimum (peak) value of each recording occurs at indices\", np.argmin(data, axis=0)\n",
      "print \"Minimum (peak) value of average recording occurs at t =\", 0.4e-3 * np.argmin(data.mean(axis=1))"
     ],
     "language": "python",
     "metadata": {},
     "outputs": []
    },
    {
     "cell_type": "markdown",
     "metadata": {},
     "source": [
      "### **argwhere()**"
     ]
    },
    {
     "cell_type": "code",
     "collapsed": false,
     "input": [
      "# Whereas argmin() and argmax() return only a single index (or reduce input.ndim by 1), \n",
      "# argwhere() returns an *array* of indices where its input is True. This provides a more\n",
      "# powerful tool for locating features within our data.\n",
      "arr17 = np.array([\n",
      "  [True, False, False, True, False],\n",
      "  [False, False, True, False, False],\n",
      "])\n",
      "print arr17\n",
      "print np.argwhere(arr17)\n"
     ],
     "language": "python",
     "metadata": {},
     "outputs": []
    },
    {
     "cell_type": "code",
     "collapsed": false,
     "input": [
      "# argwhere() is most useful when combined with the boolean / comparison operators we saw earlier\n",
      "np.argwhere(np.arange(10) > 7)"
     ],
     "language": "python",
     "metadata": {},
     "outputs": []
    },
    {
     "cell_type": "markdown",
     "metadata": {},
     "source": [
      "<br>\n",
      "<div class=\"alert alert-block alert-warning\">\n",
      "https://docs.scipy.org/doc/numpy/reference/routines.sort.html\n",
      "</div>"
     ]
    },
    {
     "cell_type": "code",
     "collapsed": false,
     "input": [
      "#######################  Exercise  #######################\n",
      "#\n",
      "# Load the image included with this notebook and use\n",
      "# argwhere() to determine the cell body's center of mass.\n",
      "#\n",
      "# Hint: The pixels in the soma all have a value < 50\n",
      "#\n",
      "# Suggested strategy:\n",
      "#  * Make a boolean array that is True wherever the image value is < 50\n",
      "#  * Use argwhere to get the positions of all True values in the boolean array\n",
      "#  * Average pixel locations to get the center of mass\n",
      "\n",
      "import Image\n",
      "img = Image.open(\"neuron.jpg\")\n",
      "\n",
      "# convert the image to an array and discard the blue/green channels\n",
      "# (the image is greyscale anyway, so we don't need color)\n",
      "data = np.array(img)[:, :, 0]\n",
      "\n",
      "imshow(data, cmap='gray');"
     ],
     "language": "python",
     "metadata": {},
     "outputs": []
    },
    {
     "cell_type": "code",
     "collapsed": false,
     "input": [],
     "language": "python",
     "metadata": {},
     "outputs": []
    },
    {
     "cell_type": "code",
     "collapsed": false,
     "input": [
      "#######################  Exercise  #######################\n",
      "#\n",
      "# The code below creates a data set similar to a calcium \n",
      "# imaging experiment. The array is 3D (frame, x, y) and\n",
      "# contains one small region (a \"cell\") where the brightness of\n",
      "# the image fluctuates over time. \n",
      "#\n",
      "# The purpose of this exercise is to generate a plot of\n",
      "# the signal hidden in this region.\n",
      "#\n",
      "# Suggested approach:\n",
      "# 1. Use data.std to measure the standard deviation of each\n",
      "#    pixel over time\n",
      "# 2. Display the stdev image with imshow to visually determine\n",
      "#    the location of the cell\n",
      "# 3. Slice out the region of the image around the cell\n",
      "# 4. Take the average over each frame of the sliced data and \n",
      "#    plot it \n",
      "\n",
      "\n",
      "# Create one frame of static, low-frequency noise\n",
      "from scipy.ndimage import gaussian_filter\n",
      "noise = np.random.normal(size=(200, 200), loc=128, scale=40)\n",
      "static = gaussian_filter(noise, 15) + 0.3 * gaussian_filter(noise, 5)\n",
      "\n",
      "# Create full 3D array with static and time-varying noise\n",
      "n_frames = 200\n",
      "data = np.random.normal(size=(n_frames, 200, 200)) + static.reshape(1, 200, 200)\n",
      "\n",
      "# Create random calcium transient signal\n",
      "sig = np.zeros(n_frames)\n",
      "spike_times = np.random.randint(10, n_frames-10, size=6)\n",
      "dt = 0.1  # let's say frames are collected at 10 Hz\n",
      "tau = 0.5  # and calcium signals have a decay time constant of 0.5 sec\n",
      "for spike in spike_times:\n",
      "    sig[spike:] += 1.5 * np.exp(-np.arange(n_frames-spike)*dt / tau)\n",
      "\n",
      "# Add calcium signal to a randomly-chosen region of the image\n",
      "i,j = np.random.randint(10, data.shape[0]-10, size=2)\n",
      "data[:, i:i+10, j:j+10] += sig.reshape(sig.shape[0], 1, 1)\n",
      "\n",
      "# Show the first frame.\n",
      "print \"This data is noisy! Where is the cell?\"\n",
      "imshow(data[0], cmap='gray', interpolation='none');"
     ],
     "language": "python",
     "metadata": {},
     "outputs": []
    },
    {
     "cell_type": "code",
     "collapsed": false,
     "input": [
      "# Write your solution here (don't re-run the cell above lest you get a different randomly-generated dataset)\n",
      "my_data = np.arange(10)"
     ],
     "language": "python",
     "metadata": {},
     "outputs": []
    },
    {
     "cell_type": "code",
     "collapsed": false,
     "input": [
      "# Save your hard work!\n",
      "np.save(\"my_data.npy\", my_data)\n",
      "\n",
      "# You could restore this array later on using np.load()\n",
      "reloaded_data = np.load(\"my_data.npy\")\n",
      "if all(reloaded_data == my_data):\n",
      "    print \"Data was saved and verified!\""
     ],
     "language": "python",
     "metadata": {},
     "outputs": []
    },
    {
     "cell_type": "markdown",
     "metadata": {},
     "source": [
      "<br>\n",
      "<div class=\"alert alert-block alert-info\">\n",
      "**Note:** np.save() is a quick-and-dirty solution for storing data, such as when\n",
      "caching intermediate results in an extended analysis.\n",
      "Because it uses a nonstandard format, it is not a great choice for archival\n",
      "storage or data sharing. In those cases, consider something like CSV (np.savetxt)\n",
      "or HDF5 (via the 3rd-party h5py package).\n",
      "</div>"
     ]
    },
    {
     "cell_type": "markdown",
     "metadata": {},
     "source": [
      "<br>\n",
      "<div class=\"alert alert-block alert-warning\">\n",
      "https://docs.scipy.org/doc/numpy/reference/routines.io.html<br>\n",
      "http://docs.h5py.org/en/latest/quick.html\n",
      "</div>\n",
      "\n",
      "\n",
      "##Masking and fancy indexing\n",
      "\n",
      "NumPy provides slicing and indexing as simple ways to extract or modify a subset of your data. But what if the subset we want is more complex (not rectangular)? Here we will learn two ways to extract or modify an arbitrary set of items from an array."
     ]
    },
    {
     "cell_type": "markdown",
     "metadata": {},
     "source": [
      "###Masking with boolean arrays\n",
      "\n",
      "The most common way of selecting an arbitrary set from an array is with boolean masking. The idea here is to create a boolean (true/false) array that has the same shape as your data, and contains the value True only in the locations of items you are interested in."
     ]
    },
    {
     "cell_type": "code",
     "collapsed": false,
     "input": [
      "# let's start with a simple array\n",
      "arr18 = np.arange(10, dtype='float')\n",
      "\n",
      "# make a mask that selects all locations where arr18 is > 6 or < 2\n",
      "mask = (arr18 > 6) | (arr18 < 2)\n",
      "\n",
      "print arr18\n",
      "print mask"
     ],
     "language": "python",
     "metadata": {},
     "outputs": []
    },
    {
     "cell_type": "code",
     "collapsed": false,
     "input": [
      "# Now the fun part: let's see only the selected values\n",
      "print arr18[mask]"
     ],
     "language": "python",
     "metadata": {},
     "outputs": []
    },
    {
     "cell_type": "code",
     "collapsed": false,
     "input": [
      "# We can also selectively modify these values\n",
      "arr18[mask] = np.nan\n",
      "print arr18"
     ],
     "language": "python",
     "metadata": {},
     "outputs": []
    },
    {
     "cell_type": "code",
     "collapsed": false,
     "input": [
      "# NaN (not-a-number) values appear in many kinds of data.\n",
      "# One common use for boolean masking is to remove NaN values from your data before\n",
      "# analyzing it:\n",
      "mask = np.isfinite(arr18)\n",
      "print arr18[mask]\n",
      "print arr18[mask].mean()"
     ],
     "language": "python",
     "metadata": {},
     "outputs": []
    },
    {
     "cell_type": "markdown",
     "metadata": {},
     "source": [
      "<br>\n",
      "<div class=\"alert alert-block alert-warning\">\n",
      "https://docs.scipy.org/doc/numpy/user/basics.indexing.html#boolean-or-mask-index-arrays\n",
      "</div>\n",
      "\n",
      "###Fancy indexing\n",
      "\n",
      "Another powerful way to select items from an array is by specifying the exact set of indices you would like to extract. This is called \"fancy indexing\" (It's also called \"array indexing with index arrays\", but I prefer \"fancy\"):"
     ]
    },
    {
     "cell_type": "code",
     "collapsed": false,
     "input": [
      "# Again, start with a simple array:\n",
      "arr19 = np.arange(100, 110)\n",
      "\n",
      "# let's say I have an array containing the indices that I want to extract from arr19:\n",
      "indices = np.array([1,5,2,3,2,6,6,0])\n",
      "\n",
      "# Extracting values from arr19 gives:\n",
      "print arr19[indices]"
     ],
     "language": "python",
     "metadata": {},
     "outputs": []
    },
    {
     "cell_type": "markdown",
     "metadata": {},
     "source": [
      "Notice that with fancy indexing, you can select values from the input array multiple times and in any order.\n",
      "\n",
      "This feature is used, for example, to implement lookup tables."
     ]
    },
    {
     "cell_type": "code",
     "collapsed": false,
     "input": [
      "# Load the neuron image again and display it with color derived from a lookup table\n",
      "import Image\n",
      "img = Image.open(\"neuron.jpg\")\n",
      "data = np.array(img)[:, :, 0]\n",
      "\n",
      "# Construct a lookup table of RGB color values that transition from \n",
      "#   white -> yellow -> red -> black\n",
      "lut = np.zeros((256, 3), dtype='ubyte')\n",
      "ind = np.arange(255, -1, -1)\n",
      "lut[:,0] = np.clip(ind*3, 0, 255)\n",
      "lut[:,1] = np.clip(ind*3-256, 0, 255)\n",
      "lut[:,2] = np.clip(ind*3-512, 0, 255)\n",
      "\n",
      "# Replace everything < 50 (just the soma in this case) with blue\n",
      "lut[:50] = (0, 0, 255)\n",
      "\n",
      "# Create an RGB-colored image by using each value in *data* as an index\n",
      "# to look up the corresponding color in *lut*\n",
      "color_data = lut[data]\n",
      "\n",
      "imshow(color_data)"
     ],
     "language": "python",
     "metadata": {},
     "outputs": []
    },
    {
     "cell_type": "markdown",
     "metadata": {},
     "source": [
      "<br>\n",
      "<div class=\"alert alert-block alert-warning\">\n",
      "https://docs.scipy.org/doc/numpy/user/basics.indexing.html#index-arrays\n",
      "</div>\n",
      "\n",
      "\n",
      "##Array concatenation / stacking\n",
      "\n",
      "Let's say we have two (or more) arrays that we would like to combine together into a single array. Numpy provides several functions  that accomplish this task in different ways, but let's just focus on the most general ones: *concatenate()* and *stack()*. This function takes a list of arrays and stacks them together along any axis. \n",
      "\n",
      "The rules of concatenation are:\n",
      "\n",
      "* All arrays must have the same number of dimensions (you can create new dimensions of length-1 if needed)\n",
      "* All arrays must have the same shape *except* along the concatenation axis\n"
     ]
    },
    {
     "cell_type": "code",
     "collapsed": false,
     "input": [
      "# Start with two arrays\n",
      "arr20 = np.arange(5)\n",
      "arr21 = np.arange(100, 105)\n",
      "\n",
      "# concatenate these along axis 0\n",
      "concat = np.concatenate([arr20, arr21])\n",
      "\n",
      "print concat"
     ],
     "language": "python",
     "metadata": {},
     "outputs": []
    },
    {
     "cell_type": "code",
     "collapsed": false,
     "input": [
      "# now stack the arrays across a new axis\n",
      "stacked = np.stack([arr20, arr21], axis=0)\n",
      "print stacked"
     ],
     "language": "python",
     "metadata": {},
     "outputs": []
    },
    {
     "cell_type": "code",
     "collapsed": false,
     "input": [
      "# Can I add another row to *stacked* ?\n",
      "arr22 = np.arange(200, 205)\n",
      "\n",
      "# Yes, but I need to make sure that my arrays have the same number of dimensions!\n",
      "# *stacked* is 2D, whereas *arr22* is only 1D. I need to reshape it to become 2D:\n",
      "arr22_2d = arr22.reshape(1, 5)\n",
      "print np.concatenate([stacked, arr22_2d], axis=0)"
     ],
     "language": "python",
     "metadata": {},
     "outputs": []
    },
    {
     "cell_type": "markdown",
     "metadata": {},
     "source": [
      "<br>\n",
      "<div class=\"alert alert-block alert-warning\">\n",
      "https://docs.scipy.org/doc/numpy/reference/routines.array-manipulation.html\n",
      "</div>\n",
      "\n",
      "-----------------------\n",
      "\n",
      "##Broadcasting\n",
      "\n",
      "We have seen many cases where we perform an operation elementwise between two arrays. For example:\n",
      "\n",
      "```\n",
      "    # add two arrays together\n",
      "    arr1 + arr2\n",
      "    \n",
      "    # compare two arrays\n",
      "    arr1 > arr2\n",
      "    \n",
      "    # assign from one array to another\n",
      "    arr1[:,0] = arr2\n",
      "```\n",
      "\n",
      "In each of these cases, the two arrays being operated on had the same shape--each element in one array had a matching element in the other array. \n",
      "\n",
      "Broadcasting is a very powerful feature of NumPy that lets us perform operations between two arrays of different shape.\n"
     ]
    },
    {
     "cell_type": "code",
     "collapsed": false,
     "input": [
      "# Simple example: Let's take the same electrode recording data that we\n",
      "# loaded earlier and subtract off the baseline value from each recording\n",
      "data = np.loadtxt(\"sweeps.csv\", delimiter=\",\", skiprows=1)\n",
      "tvals = data[:,0]\n",
      "data = data[:, 1:]\n",
      "\n",
      "print \"Raw data:\"\n",
      "plot(tvals, data);"
     ],
     "language": "python",
     "metadata": {},
     "outputs": []
    },
    {
     "cell_type": "code",
     "collapsed": false,
     "input": [
      "# calculate the median value from the beginning (first 25 samples) of each recording\n",
      "base_vals = np.median(data[:25], axis=0)\n",
      "\n",
      "# reshape base_vals so that it is clear how the axes of *base_vals* align with *data*\n",
      "base_vals = base_vals.reshape(1, 10)\n",
      "\n",
      "# subtract baseline values from data\n",
      "baseline_subtracted = data - base_vals\n",
      "\n",
      "print \"Baseline-subtracted data:\"\n",
      "plot(tvals, baseline_subtracted);"
     ],
     "language": "python",
     "metadata": {},
     "outputs": []
    },
    {
     "cell_type": "markdown",
     "metadata": {},
     "source": [
      "Notice that we had to reshape *base_vals* to become 2D before it could be subtracted from *data*.\n",
      "When *base_vals* is broadcast onto *data*, its first axis (which has length 1) is effectively stretched\n",
      "to the full length of *data*'s first axis (which has length 673). \n",
      "\n",
      "The major rules here are: \n",
      "\n",
      "* The arrays should have the same number of dimensions\n",
      "  (this is not required, but it gets confusing if they are different)\n",
      "* For any dimension where the array shapes are not equal, one array \n",
      "  must have length=1 along that axis.\n",
      "  \n",
      "<br>\n",
      "<div class=\"alert alert-block alert-warning\">  \n",
      "https://docs.scipy.org/doc/numpy/user/basics.broadcasting.html\n",
      "</div>"
     ]
    }
   ],
   "metadata": {}
  }
 ]
}