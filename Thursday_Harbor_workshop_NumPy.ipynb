{
 "metadata": {
  "name": "",
  "signature": "sha256:a8a979251196f0e5cc93cdcc05b3641394201bcd75692ceb942885c3f81ef40c"
 },
 "nbformat": 3,
 "nbformat_minor": 0,
 "worksheets": [
  {
   "cells": [
    {
     "cell_type": "code",
     "collapsed": false,
     "input": [
      "# we will use this later on for visualizations\n",
      "from matplotlib.pylab import imshow, plot\n",
      "%matplotlib inline"
     ],
     "language": "python",
     "metadata": {},
     "outputs": []
    },
    {
     "cell_type": "markdown",
     "metadata": {},
     "source": [
      "# What is an array?"
     ]
    },
    {
     "cell_type": "markdown",
     "metadata": {},
     "source": [
      "*Arrays* are a very useful concept shared by many programming languages. Arrays are:\n",
      "\n",
      "1. Containers that hold many items, all of the same type. \n",
      "2. Represented by a rectangular structure. Arrays may have any number of dimensions, but each dimension (axis) of the array has a fixed length.\n",
      "\n",
      "For example:\n",
      "\n",
      "* A 1D array of 10M samples recorded from an electrode\n",
      "\n",
      "<table style='margin-left: 50px'>\n",
      "<!--<tr><td>0</td><td>1</td><td>2</td><td>3</td><td>4</td><td>5</td><td>&nbsp;&nbsp;.&nbsp;&nbsp;&nbsp;.&nbsp;&nbsp;&nbsp;.&nbsp;&nbsp;</td><td>9999999</td></tr>-->\n",
      "<tr><td>0.0531</td><td>0.0547</td><td>0.0522</td><td>0.0525</td><td>0.0536</td><td>0.0531</td><td>&nbsp;&nbsp;.&nbsp;&nbsp;&nbsp;.&nbsp;&nbsp;&nbsp;.&nbsp;&nbsp;</td><td>0.0530</td></tr>\n",
      "</table>\n",
      "\n",
      "* A 5x5 (2D) matrix\n",
      "\n",
      "<table style='margin-left: 50px'>\n",
      "<tr><td>&nbsp;1&nbsp;</td><td>&nbsp;0&nbsp;</td><td>&nbsp;0&nbsp;</td><td>&nbsp;0&nbsp;</td><td>&nbsp;0&nbsp;</td></tr>\n",
      "<tr><td>&nbsp;0&nbsp;</td><td>&nbsp;1&nbsp;</td><td>&nbsp;0&nbsp;</td><td>&nbsp;0&nbsp;</td><td>&nbsp;0&nbsp;</td></tr>\n",
      "<tr><td>&nbsp;0&nbsp;</td><td>&nbsp;0&nbsp;</td><td>&nbsp;1&nbsp;</td><td>&nbsp;0&nbsp;</td><td>&nbsp;0&nbsp;</td></tr>\n",
      "<tr><td>&nbsp;0&nbsp;</td><td>&nbsp;0&nbsp;</td><td>&nbsp;0&nbsp;</td><td>&nbsp;1&nbsp;</td><td>&nbsp;0&nbsp;</td></tr>\n",
      "<tr><td>&nbsp;0&nbsp;</td><td>&nbsp;0&nbsp;</td><td>&nbsp;0&nbsp;</td><td>&nbsp;0&nbsp;</td><td>&nbsp;1&nbsp;</td></tr>\n",
      "</table>\n",
      "\n",
      "* A 500x500 pixel image with 3 color channels (3D)\n",
      "\n",
      "<img src=\"files/rgb_array.svg\" style=\"margin-left: 50px\">\n",
      "\n",
      "\n",
      "## Why are arrays useful?\n",
      "\n",
      "* They are fast\n",
      "* They use memory efficiently\n",
      "* Used correctly, they can make your code more concise\n",
      "\n",
      "In principle, we could create multi-dimensional array-like structures simply by nesting Python lists together. In practice, this approach is tedious and inefficient.\n",
      "\n",
      "As an example, let's try constructing a 2D array out of nested Python lists, and compare this approach to using NumPy arrays. \n",
      "I will build an \"array\" of random numbers that is 200 columns x 10k rows:\n"
     ]
    },
    {
     "cell_type": "code",
     "collapsed": false,
     "input": [
      "import random\n",
      "\n",
      "rows = 50000\n",
      "cols = 200\n",
      "\n",
      "# Create a list that is 50,000 rows long, where each item in the list\n",
      "# is a nested list of 200 random values.\n",
      "data = []\n",
      "for i in range(rows):\n",
      "    row = []\n",
      "    for j in range(cols):\n",
      "        row.append(random.random())\n",
      "    data.append(row)\n",
      "\n",
      "    # display a small subset of this \"array\"\n",
      "    if i < 10:\n",
      "        print row[:5]"
     ],
     "language": "python",
     "metadata": {},
     "outputs": []
    },
    {
     "cell_type": "markdown",
     "metadata": {},
     "source": [
      "--------------------------------\n",
      "\n",
      "I want to calculate the mean value of every column:\n"
     ]
    },
    {
     "cell_type": "code",
     "collapsed": false,
     "input": [
      "# For each column, collect all values in the column and then compute the average.\n",
      "meanvals = []\n",
      "for j in range(cols):\n",
      "    col = [row[j] for row in data]\n",
      "    meanvals.append(sum(col) / rows)\n",
      "    \n",
      "print meanvals[:5]"
     ],
     "language": "python",
     "metadata": {},
     "outputs": []
    },
    {
     "cell_type": "markdown",
     "metadata": {},
     "source": [
      "--------------------------------\n",
      "This code works, but it is:\n",
      "\n",
      "* Slow - Python lists can contain mixed data types. One consequence is that when we add up values in a column, Python has to check *each* value to make sure it is a numerical type that can be added to the running total. If the array is large, that overhead can add up quickly!\n",
      "\n",
      "* Memory-inefficient - We should be able to represent this data set using `rows * cols = 2e6 numbers`, plus some small overhead. Python lists have about 1kB of memory overhead *per* *list*, which again can add up quickly. If your data just barely fits in memory, this will ruin your day.\n",
      "\n",
      "* Verbose - this very simple task can be written much more compactly with the right tools.\n"
     ]
    },
    {
     "cell_type": "markdown",
     "metadata": {},
     "source": [
      "##NumPy to the rescue\n",
      "\n",
      "NumPy is a third-party Python package used by nearly every other package in the scientific Python stack. It provides a crucial data type--`ndarray`--that allows us to create and manipulate real multi-dimensional arrays. NumPy also provides optimized tools for performing many numerical computations on arrays.\n"
     ]
    },
    {
     "cell_type": "code",
     "collapsed": false,
     "input": [
      "import numpy as np\n",
      "\n",
      "data = np.random.random(size=(rows, cols))\n",
      "meanvals = data.mean(axis=0)\n",
      "print meanvals[:5]"
     ],
     "language": "python",
     "metadata": {},
     "outputs": []
    },
    {
     "cell_type": "markdown",
     "metadata": {},
     "source": [
      "* https://docs.scipy.org/doc/numpy-dev/reference/generated/numpy.random.random.html\n",
      "* https://docs.scipy.org/doc/numpy/reference/generated/numpy.ndarray.mean.html\n",
      "\n",
      "---------------------------\n",
      "These three lines of code replace the 16 lines that it took to perform this operation with lists, and it runs in a small fraction of the time. \n",
      "\n",
      "Let's explore the array object we just created:"
     ]
    },
    {
     "cell_type": "code",
     "collapsed": false,
     "input": [
      "# numpy arrays have a set number of dimensions:\n",
      "data.ndim"
     ],
     "language": "python",
     "metadata": {},
     "outputs": []
    },
    {
     "cell_type": "code",
     "collapsed": false,
     "input": [
      "# each dimension has a specific length\n",
      "data.shape"
     ],
     "language": "python",
     "metadata": {},
     "outputs": []
    },
    {
     "cell_type": "code",
     "collapsed": false,
     "input": [
      "# The total number of items in this array (200 * 50k) is given by the `size` attribute\n",
      "data.size"
     ],
     "language": "python",
     "metadata": {},
     "outputs": []
    },
    {
     "cell_type": "code",
     "collapsed": false,
     "input": [
      "# The array's memory usage is the number of items (200 * 50k)\n",
      "# times the number of bytes used by each item\n",
      "data.size * data.itemsize"
     ],
     "language": "python",
     "metadata": {},
     "outputs": []
    },
    {
     "cell_type": "markdown",
     "metadata": {},
     "source": [
      "----------------------------\n",
      "This array uses 80MB of memory to represent 10M values. Why do we use 8 bytes for each item?"
     ]
    },
    {
     "cell_type": "code",
     "collapsed": false,
     "input": [
      "# all items in the array share the same data type\n",
      "data.dtype"
     ],
     "language": "python",
     "metadata": {},
     "outputs": []
    },
    {
     "cell_type": "markdown",
     "metadata": {},
     "source": [
      "-----------------------------\n",
      "\n",
      "All elements in the array are of the same data type, a 64-bit (8 byte) floating-point number.\n",
      "\n",
      "This is the default *dtype*, but there are many other options we can pick from. Whether we *care* enough to worry about dtype depends on what we want to do with the array, and whether we are likely to run out of memory. Some of the most commonly used dtypes are listed here:\n",
      "\n",
      "| dtype  | bytes     | precision  | approx. range       |\n",
      "|--------|-----------|------------|---------------------|\n",
      "|float64 | 8         | 16         | \u00b110<sup>308</sup>   |\n",
      "|float32 | 4         | 7          | \u00b110<sup>38</sup>    |\n",
      "|int64   | 8         | 0          | \u00b110<sup>18</sup>    |\n",
      "|int32   | 4         | 0          | \u00b110<sup>9</sup>     |\n",
      "|int16   | 2         | 0          | \u00b110<sup>4</sup>     |\n",
      "|uint64  | 8         | 0          | 0 to 10<sup>19</sup>|\n",
      "|uint32  | 4         | 0          | 0 to 10<sup>9</sup> |\n",
      "|uint16  | 2         | 0          | 0 to 10<sup>4</sup> |\n",
      "|uint8   | 1         | 0          | 0-255               |\n",
      "|bool    | 1         | 0          | 0-1                 |\n",
      "\n",
      "* https://docs.scipy.org/doc/numpy-1.10.1/user/basics.types.html\n",
      "\n",
      "----------------------\n",
      "\n",
      "To convert the array to a different dtype, use the *astype()* method."
     ]
    },
    {
     "cell_type": "code",
     "collapsed": false,
     "input": [
      "smaller_data = data.astype('float32')\n",
      "\n",
      "# This should be half the size of the original array\n",
      "smaller_data.size * smaller_data.itemsize"
     ],
     "language": "python",
     "metadata": {},
     "outputs": []
    },
    {
     "cell_type": "markdown",
     "metadata": {},
     "source": [
      "##Creating new arrays\n",
      "\n",
      "NumPy offers several mechanisms for creating new arrays. Let's look at a few of the more common approaches:\n",
      "\n",
      "-----------------------\n",
      "\n",
      "**Nested lists**"
     ]
    },
    {
     "cell_type": "code",
     "collapsed": false,
     "input": [
      "# Create an array from nested lists\n",
      "nested = [[1,2], [3,4], [5,6], [7,8]]\n",
      "arr1 = np.array(nested)\n",
      "print arr1"
     ],
     "language": "python",
     "metadata": {},
     "outputs": []
    },
    {
     "cell_type": "code",
     "collapsed": false,
     "input": [
      "# `nested` is a list of length 4, and each of its items is a nested list of length 2.\n",
      "# This corresponds to an array shape (4, 2)\n",
      "arr1.shape"
     ],
     "language": "python",
     "metadata": {},
     "outputs": []
    },
    {
     "cell_type": "markdown",
     "metadata": {},
     "source": [
      "-------------------------\n",
      "**zeros()**"
     ]
    },
    {
     "cell_type": "code",
     "collapsed": false,
     "input": [
      "# Create an array of a certain shape and dtype, filled with zeros\n",
      "arr2 = np.zeros((5, 10), dtype='uint16')\n",
      "print arr2\n",
      "print \"shape:\", arr2.shape, \"dtype:\", arr2.dtype"
     ],
     "language": "python",
     "metadata": {},
     "outputs": []
    },
    {
     "cell_type": "markdown",
     "metadata": {},
     "source": [
      "-------------------------\n",
      "**arange()**"
     ]
    },
    {
     "cell_type": "code",
     "collapsed": false,
     "input": [
      "# Create a 1D array of consecutive integers \n",
      "print np.arange(5, 11)"
     ],
     "language": "python",
     "metadata": {},
     "outputs": []
    },
    {
     "cell_type": "markdown",
     "metadata": {},
     "source": [
      "-----------------------\n",
      "\n",
      "**fromfunction()**"
     ]
    },
    {
     "cell_type": "code",
     "collapsed": false,
     "input": [
      "# Create an array and fill it with values generated by a function.\n",
      "# For each element in the new array, the function will be called with the element's indices as its arguments.\n",
      "def gauss(x, y, center=(5, 5), sigma=3.5):\n",
      "    dist = ((x-center[0])**2 + (y-center[1])**2) ** 0.5\n",
      "    return 100 * np.exp(-dist**2 / sigma)\n",
      "\n",
      "arr3 = np.fromfunction(gauss, (10, 10))\n",
      "print arr3.astype('int')  # convert to int for easier reading\n",
      "\n",
      "# just for fun, let's visualize that as an image\n",
      "imshow(arr3, interpolation='none')"
     ],
     "language": "python",
     "metadata": {},
     "outputs": []
    },
    {
     "cell_type": "markdown",
     "metadata": {},
     "source": [
      "##Accessing single values from arrays"
     ]
    },
    {
     "cell_type": "code",
     "collapsed": false,
     "input": [
      "# Create a small array to play with\n",
      "arr4 = np.array([[1,2,3,4,5], [6,7,8,9,10], [11,12,13,14,15]])\n",
      "print arr4"
     ],
     "language": "python",
     "metadata": {},
     "outputs": []
    },
    {
     "cell_type": "code",
     "collapsed": false,
     "input": [
      "# To read a single value from the array, we index the array using [] notation\n",
      "# and supply a comma-separated list of indices, one per axis\n",
      "print arr4[2, 3]"
     ],
     "language": "python",
     "metadata": {},
     "outputs": []
    },
    {
     "cell_type": "code",
     "collapsed": false,
     "input": [
      "# To change one value in the array:\n",
      "arr4[1, 2] = -1\n",
      "print arr4"
     ],
     "language": "python",
     "metadata": {},
     "outputs": []
    },
    {
     "cell_type": "code",
     "collapsed": false,
     "input": [
      "#######################  Exercise  #######################\n",
      "#\n",
      "# Create a new array and write a for-loop that sets each\n",
      "# item equal to the corresponding item in `arr4` plus one.\n",
      "# Put another way:\n",
      "#     new_arr[i,j] == arr4[i, j] + 1\n"
     ],
     "language": "python",
     "metadata": {},
     "outputs": []
    },
    {
     "cell_type": "markdown",
     "metadata": {},
     "source": [
      "##Arithmetic with arrays"
     ]
    },
    {
     "cell_type": "markdown",
     "metadata": {},
     "source": [
      "In the exercise above, you used a nested for-loop to access each element of an array, one at a time. This is fine for small arrays, but for large arrays we would be executing many Python statements, each of which has a significant perfornamce cost. \n",
      "\n",
      "NumPy provides a way to express this operation (and many others) using a single Python statement:"
     ]
    },
    {
     "cell_type": "code",
     "collapsed": false,
     "input": [
      "# Start with a 1D array of integers 0 through 7\n",
      "arr5 = np.arange(8)\n",
      "print arr5\n",
      "\n",
      "# Create a new array by adding 2 to each element of arr5\n",
      "arr6 = arr5 + 2\n",
      "print arr6"
     ],
     "language": "python",
     "metadata": {},
     "outputs": []
    },
    {
     "cell_type": "markdown",
     "metadata": {},
     "source": [
      "------------------------\n",
      "This process--replacing nested for-loops with array operations--is called *vectorization*. It both speeds up our code and makes it easier to read and write.\n",
      "\n",
      "It is also possible to modify an existing array in-place, rather than creating a new array:"
     ]
    },
    {
     "cell_type": "code",
     "collapsed": false,
     "input": [
      "# subtract 2 directly from each element in arr6; do not create a new array\n",
      "arr6 -= 2\n",
      "print arr6"
     ],
     "language": "python",
     "metadata": {},
     "outputs": []
    },
    {
     "cell_type": "markdown",
     "metadata": {},
     "source": [
      "<div class=\"alert alert-block alert-info\">**Note:** most functions in numpy will either *create* and return a new array, or *modify* an existing array in-place. Keep track of which of these is happening in your code, and look for this whenever you read the documentation.</div>"
     ]
    },
    {
     "cell_type": "code",
     "collapsed": false,
     "input": [
      "#######################  Exercise  #######################\n",
      "#\n",
      "# Create a 1D array that contains (2^x - 1) for integer\n",
      "# values of x from 0 to 10. For example, the first 3 items\n",
      "# are:\n",
      "#   2^0 - 1 = -1\n",
      "#   2^1 - 1 = 1\n",
      "#   2^2 - 1 = 3\n",
      "# For this exercise, do not use for-loops or `fromfunction()`\n",
      "#\n",
      "#  Note: the exponent operator in Python is two asterisks: **\n"
     ],
     "language": "python",
     "metadata": {},
     "outputs": []
    },
    {
     "cell_type": "markdown",
     "metadata": {},
     "source": [
      "We have just seen an example of arithmetic between an array and a scalar (single value). It is also possible to perform arithmetic element-wise between two arrays:"
     ]
    },
    {
     "cell_type": "code",
     "collapsed": false,
     "input": [
      "# Create a new array `arr7` where each item is the product of the corresponding items in `arr5` and `arr6`\n",
      "arr7 = arr5 * arr6\n",
      "print arr7"
     ],
     "language": "python",
     "metadata": {},
     "outputs": []
    },
    {
     "cell_type": "code",
     "collapsed": false,
     "input": [
      "# We can do the same with arrays of any dimension\n",
      "arr8 = np.array([[1, 2], [3, 4]])\n",
      "arr9 = np.array([[10, 10], [20, 20]])\n",
      "print arr8 * arr9"
     ],
     "language": "python",
     "metadata": {},
     "outputs": []
    },
    {
     "cell_type": "markdown",
     "metadata": {},
     "source": [
      "<div class=\"alert alert-block alert-info\">\n",
      "Note: in the above example, the arrays are multiplied *elementwise*; this is not a dot-product!<br><br>\n",
      "\n",
      "This is a frequent point of confusion for MATLAB users. Whereas MATLAB began life as a linear algebra system, NumPy was designed as a more general-purpose numerical computation system. For those interested in using NumPy for linear algebra, read about *numpy.matrix*, which provides a special type of *ndarrray* for this purpose.<br><br>\n",
      "\n",
      "https://docs.scipy.org/doc/numpy/reference/generated/numpy.matrix.html\n",
      "</div>"
     ]
    },
    {
     "cell_type": "markdown",
     "metadata": {},
     "source": [
      "**Boolean operations**\n",
      "\n",
      "In addition to the arithmetic operators available with numpy arrays (+ - \\* / \\*\\*), most boolean (true/false) and comparison operators may be used as well. As before, these operators are applied elementwise, returning an array of boolean values:"
     ]
    },
    {
     "cell_type": "code",
     "collapsed": false,
     "input": [
      "arr10 = np.arange(10)\n",
      "\n",
      "# generate a boolean array that contains True wherever arr10 is greater than 5\n",
      "arr11 = arr10 > 5\n",
      "print arr11"
     ],
     "language": "python",
     "metadata": {},
     "outputs": []
    },
    {
     "cell_type": "code",
     "collapsed": false,
     "input": [
      "# Combine two boolean arrays using an elementwise OR operator:\n",
      "print (arr10 < 3) | (arr10 > 7)"
     ],
     "language": "python",
     "metadata": {},
     "outputs": []
    },
    {
     "cell_type": "code",
     "collapsed": false,
     "input": [
      "# Combine two boolean arrays using an elementwise AND operator:\n",
      "print (arr10 > 3) & (arr10 < 7)"
     ],
     "language": "python",
     "metadata": {},
     "outputs": []
    },
    {
     "cell_type": "markdown",
     "metadata": {},
     "source": [
      "----------------------\n",
      "Later on, we will see how we can use boolean arrays like these to select (or mask) values from the original data.<br><br>"
     ]
    },
    {
     "cell_type": "markdown",
     "metadata": {},
     "source": [
      "**Other mathematical functions**\n",
      "\n",
      "NumPy includes an extensive library of mathematical functions that operate on arrays. The full list can be found here:\n",
      "https://docs.scipy.org/doc/numpy/reference/routines.math.html\n",
      "\n",
      "Let's look at just a couple of the most commonly used functions:"
     ]
    },
    {
     "cell_type": "code",
     "collapsed": false,
     "input": [
      "# Generate an array containing e^x for several values of x\n",
      "print np.exp(arr10)"
     ],
     "language": "python",
     "metadata": {},
     "outputs": []
    },
    {
     "cell_type": "code",
     "collapsed": false,
     "input": [
      "#######################  Exercise  #######################\n",
      "#\n",
      "# Show a plot of a sine wave. Suggested strategy:\n",
      "#  1. Create an array of time (or phase) values using np.arange() \n",
      "#     multiplied by a scale factor\n",
      "#  2. Compute the sine of this array using np.sin()\n",
      "#  3. Plot the result using plot()\n"
     ],
     "language": "python",
     "metadata": {},
     "outputs": []
    },
    {
     "cell_type": "markdown",
     "metadata": {},
     "source": [
      "##Accessing array sub-regions (slicing)\n",
      "\n",
      "When dealing with arrays, it is common that we will want to select a specific sub-region of the array. This allows us to either extract a portion of the original data for focused analysis, or to modify a selected portion of the original array.\n",
      "\n",
      "We can select a subregion of an array using indexing and slice notation, exactly as we would with a list:"
     ]
    },
    {
     "cell_type": "code",
     "collapsed": false,
     "input": [
      "# To start simple, let's just take a 1D array and slice it up a few different ways\n",
      "arr12 = np.arange(20)\n",
      "print arr12"
     ],
     "language": "python",
     "metadata": {},
     "outputs": []
    },
    {
     "cell_type": "code",
     "collapsed": false,
     "input": [
      "# Slice from index 5 until 15\n",
      "print arr12[5:15]"
     ],
     "language": "python",
     "metadata": {},
     "outputs": []
    },
    {
     "cell_type": "code",
     "collapsed": false,
     "input": [
      "# Slice from the beginning until the 7th element\n",
      "print arr12[:7]"
     ],
     "language": "python",
     "metadata": {},
     "outputs": []
    },
    {
     "cell_type": "code",
     "collapsed": false,
     "input": [
      "# Slice from the 11th element until the end\n",
      "print arr12[11:]"
     ],
     "language": "python",
     "metadata": {},
     "outputs": []
    },
    {
     "cell_type": "markdown",
     "metadata": {},
     "source": [
      "--------------------------\n",
      "Note that when we slice an array, the original array is unchanged. However, the new array that we create is actually a *view* on the original array. No data is copied when the view is created. This means that modifications made to either array will be visible from both:"
     ]
    },
    {
     "cell_type": "code",
     "collapsed": false,
     "input": [
      "arr13 = arr12[5:15]\n",
      "\n",
      "# modify these arrays\n",
      "arr12[5] = -1\n",
      "arr13[9] = -2\n",
      "\n",
      "# both arrays are a view on the same underlying memory, and thus changes\n",
      "# made to either one are apparent in both\n",
      "print arr12\n",
      "print arr13"
     ],
     "language": "python",
     "metadata": {},
     "outputs": []
    },
    {
     "cell_type": "markdown",
     "metadata": {},
     "source": [
      "This is the default behavior because it provides the best performance, although it requires some care on the part of the programmer to ensure data is not inadvertently modified. To avoid such unwanted side effects, it is sometimes necessary to copy an array before modifying it: "
     ]
    },
    {
     "cell_type": "code",
     "collapsed": false,
     "input": [
      "# copy the array and discard the view\n",
      "arr13 = arr13.copy()\n",
      "\n",
      "# these two arrays are completely independent; changes made to one are not\n",
      "# reflected in the other\n",
      "arr12[14] = 14\n",
      "arr13[0] = 5\n",
      "\n",
      "print arr12\n",
      "print arr13"
     ],
     "language": "python",
     "metadata": {},
     "outputs": []
    },
    {
     "cell_type": "markdown",
     "metadata": {},
     "source": [
      "-------------------\n",
      "One major difference between lists and arrays is that we may index or slice multiple axes simultaneously:"
     ]
    },
    {
     "cell_type": "code",
     "collapsed": false,
     "input": [
      "# Start with a 3D array\n",
      "arr14 = np.arange(6000).reshape(40, 50, 3)\n",
      "\n",
      "# This array has shape (40, 50, 3). Let's take a slice that contains:\n",
      "#  * all rows (along axis 0)\n",
      "#  * columns 10-20 (along axis 1)\n",
      "#  * only the second channel (along axis 2)\n",
      "arr15 = arr14[:, 10:20, 1]"
     ],
     "language": "python",
     "metadata": {},
     "outputs": []
    },
    {
     "cell_type": "markdown",
     "metadata": {},
     "source": [
      "<div class=\"alert alert-block alert-info\">\n",
      "**Note:** When we **slice** an axis, the resulting array will have the same axis, but of a different length.\n",
      "When we **index** an axis, that axis is no longer present in the result.\n",
      "</div>"
     ]
    },
    {
     "cell_type": "code",
     "collapsed": false,
     "input": [
      "#######################  Exercise  #######################\n",
      "#\n",
      "# Try to guess what the shape of arr15 will be before\n",
      "# running this cell\n",
      "\n",
      "print arr15.shape"
     ],
     "language": "python",
     "metadata": {},
     "outputs": []
    },
    {
     "cell_type": "markdown",
     "metadata": {},
     "source": [
      "------------------------\n",
      "Another major difference between lists and arrays is that, with arrays, we can actually assign new values to a slice of the array:"
     ]
    },
    {
     "cell_type": "code",
     "collapsed": false,
     "input": [
      "arr16 = np.arange(18)\n",
      "\n",
      "# Assign -1 to a block in the middle of arr16\n",
      "arr16[7:12] = -1\n",
      "print arr16"
     ],
     "language": "python",
     "metadata": {},
     "outputs": []
    },
    {
     "cell_type": "code",
     "collapsed": false,
     "input": [
      "# Assign an array to fill up the middle of arr16\n",
      "arr16[7:12] = np.arange(107, 112)\n",
      "print arr16"
     ],
     "language": "python",
     "metadata": {},
     "outputs": []
    },
    {
     "cell_type": "code",
     "collapsed": false,
     "input": [
      "# We can also do in-place arithmetic on array slices\n",
      "arr16[7:12] *= -1\n",
      "print arr16"
     ],
     "language": "python",
     "metadata": {},
     "outputs": []
    },
    {
     "cell_type": "markdown",
     "metadata": {},
     "source": [
      "##Array reduction\n",
      "\n",
      "NumPy has many functions for performing mathematical operations on arrays. Earlier, we used *exp()* and *sin()* to create new arrays by performing these operations elementwise; that is, the output arrays had the same shape as their input arrays. \n",
      "\n",
      "Another group of mathematical functions takes an array as input and returns a scalar. This process is called *reduction*."
     ]
    },
    {
     "cell_type": "markdown",
     "metadata": {},
     "source": [
      "**min()**, **max()**, **mean()**, and **std()**"
     ]
    },
    {
     "cell_type": "code",
     "collapsed": false,
     "input": [
      "# The most common reductions are available as array methods \n",
      "# (we access them by writing `data.method()` as opposed to `np.function()`)\n",
      "data = np.random.normal(size=(3, 5), loc=10.0, scale=2.0)\n",
      "\n",
      "print data\n",
      "print \"min:\", data.min(), \"  max:\", data.max(), \"  mean:\", data.mean(), \"  stdev:\", data.std()"
     ],
     "language": "python",
     "metadata": {},
     "outputs": []
    },
    {
     "cell_type": "code",
     "collapsed": false,
     "input": [
      "# If the data is multi-dimensional, we may optionally specify an *axis* over which the reduction should be applied.\n",
      "\n",
      "# Compute the mean across rows\n",
      "print \"mean of each column:\", data.mean(axis=0)\n",
      "\n",
      "# Compute the max across columns\n",
      "print \"max of each row:\", data.max(axis=1)"
     ],
     "language": "python",
     "metadata": {},
     "outputs": []
    },
    {
     "cell_type": "markdown",
     "metadata": {},
     "source": [
      "**median()**, **sum()**, and **product()**"
     ]
    },
    {
     "cell_type": "code",
     "collapsed": false,
     "input": [
      "# Only the most common reductions are available as array methods.\n",
      "# Many more are regular functions defined in the numpy package\n",
      "# (use np.function_name() to access them)\n",
      "print \"the sum of data:\", np.sum(data)\n",
      "print \"the product of each column:\", np.product(data, axis=0)\n",
      "print \"Median value of each row:\", np.median(data, axis=1)"
     ],
     "language": "python",
     "metadata": {},
     "outputs": []
    },
    {
     "cell_type": "markdown",
     "metadata": {},
     "source": [
      "**argmin()**, **argmax()**, and **argwhere()**"
     ]
    },
    {
     "cell_type": "code",
     "collapsed": false,
     "input": [
      "# Another useful set of functions is used to determine the _index_ within\n",
      "# an array where certain features occur:\n",
      "print \"Maximum value of each column occurs at indices\", np.argmax(data, axis=0)\n",
      "print \"Minimum value of row 0 occurs at index\", np.argmin(data[0])"
     ],
     "language": "python",
     "metadata": {},
     "outputs": []
    },
    {
     "cell_type": "code",
     "collapsed": false,
     "input": [
      "# Whereas argmin() and argmax() return only a single index, \n",
      "# argwhere() returns an *array* of indices where its input is True.\n",
      "arr17 = np.array([True, False, False, True, False])\n",
      "print np.argwhere(arr17)"
     ],
     "language": "python",
     "metadata": {},
     "outputs": []
    },
    {
     "cell_type": "code",
     "collapsed": false,
     "input": [
      "# argwhere() is most useful when combined with the boolean / comparison operators we saw earlier\n",
      "np.argwhere(data > 10)"
     ],
     "language": "python",
     "metadata": {},
     "outputs": []
    },
    {
     "cell_type": "code",
     "collapsed": false,
     "input": [
      "#######################  Exercise  #######################\n",
      "#\n",
      "# Load the image included with this notebook and use\n",
      "# argwhere() to determine the cell body's center of mass.\n",
      "#\n",
      "# Hint: The pixels in the soma all have a value < 50\n",
      "\n",
      "import Image\n",
      "img = Image.open(\"neuron.jpg\")\n",
      "\n",
      "# convert the image to an array and discard the blue/green channels\n",
      "# (the image is greyscale anyway, so we don't need color)\n",
      "data = np.array(img)[:, :, 0]\n",
      "imshow(data, cmap='gray')"
     ],
     "language": "python",
     "metadata": {},
     "outputs": []
    },
    {
     "cell_type": "code",
     "collapsed": false,
     "input": [],
     "language": "python",
     "metadata": {},
     "outputs": []
    },
    {
     "cell_type": "code",
     "collapsed": false,
     "input": [
      "#######################  Exercise  #######################\n",
      "#\n",
      "# The code below creates a data set similar to a calcium \n",
      "# imaging experiment. The array is 3D (frame, x, y) and\n",
      "# contains small regions (\"cells\") where the brightness of\n",
      "# the image fluctuates over time. \n",
      "#\n",
      "# The purpose of this exercise is to generate a plot of\n",
      "# the signal hidden in this region.\n",
      "#\n",
      "# Suggested approach:\n",
      "# 1. Use data.std to measure the standard deviation of each\n",
      "#    pixel over time\n",
      "# 2. Display the stdev image with imshow to determine the location\n",
      "#    of the cell\n",
      "# 3. Slice out the region of the image around the cell\n",
      "# 4. Take the average over each frame of the sliced data and \n",
      "#    plot it \n",
      "\n",
      "\n",
      "# Create one frame of static, low-frequency noise\n",
      "from scipy.ndimage import gaussian_filter\n",
      "noise = np.random.normal(size=(200, 200), loc=128, scale=40)\n",
      "static = gaussian_filter(noise, 15) + 0.3 * gaussian_filter(noise, 5)\n",
      "\n",
      "# Create full 3D array with static and time-varying noise\n",
      "n_frames = 200\n",
      "data = np.random.normal(size=(n_frames, 200, 200)) + static.reshape(1, 200, 200)\n",
      "\n",
      "# Create random calcium transient signal\n",
      "sig = np.zeros(n_frames)\n",
      "spike_times = np.random.randint(10, n_frames-10, size=6)\n",
      "dt = 0.1  # let's say frames are collected at 10 Hz\n",
      "tau = 0.5  # and calcium signals have a decay time constant of 0.5 sec\n",
      "for spike in spike_times:\n",
      "    sig[spike:] += 1.5 * np.exp(-np.arange(n_frames-spike)*dt / tau)\n",
      "\n",
      "# Add calcium signal to a randomly-chosen region of the image\n",
      "i,j = np.random.randint(10, data.shape[0]-10, size=2)\n",
      "data[:, i:i+10, j:j+10] += sig.reshape(sig.shape[0], 1, 1)\n",
      "\n",
      "# Show the first frame. Noisy!\n",
      "imshow(data[0], cmap='gray', interpolation='none')"
     ],
     "language": "python",
     "metadata": {},
     "outputs": []
    },
    {
     "cell_type": "code",
     "collapsed": false,
     "input": [
      "imshow(data.std(axis=0), cmap='magma', interpolation='none')"
     ],
     "language": "python",
     "metadata": {},
     "outputs": []
    },
    {
     "cell_type": "code",
     "collapsed": false,
     "input": [
      "plot(data[:, 20:30, 150:160].mean(axis=1).mean(axis=1))"
     ],
     "language": "python",
     "metadata": {},
     "outputs": []
    },
    {
     "cell_type": "markdown",
     "metadata": {},
     "source": [
      "##Masking and fancy indexing"
     ]
    },
    {
     "cell_type": "markdown",
     "metadata": {},
     "source": [
      "##Array concatenation (stacking)"
     ]
    },
    {
     "cell_type": "markdown",
     "metadata": {},
     "source": [
      "##Broadcasting"
     ]
    }
   ],
   "metadata": {}
  }
 ]
}