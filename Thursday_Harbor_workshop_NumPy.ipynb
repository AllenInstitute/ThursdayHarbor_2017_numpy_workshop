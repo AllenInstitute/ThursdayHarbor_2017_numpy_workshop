{
 "metadata": {
  "name": "",
  "signature": "sha256:aa88d9b4dc41e060b8d165560d8da80bb0782d042a933ffb595564eaaa69b0cd"
 },
 "nbformat": 3,
 "nbformat_minor": 0,
 "worksheets": [
  {
   "cells": [
    {
     "cell_type": "markdown",
     "metadata": {},
     "source": [
      "# What is an array?"
     ]
    },
    {
     "cell_type": "markdown",
     "metadata": {},
     "source": [
      "*Arrays* are a very useful concept shared by many programming languages. Arrays are:\n",
      "\n",
      "1. Containers that hold many items, all of the same type. \n",
      "2. Represented by a rectangular structure. Arrays may have any number of dimensions, but each dimension (axis) of the array has a fixed length.\n",
      "\n",
      "For example:\n",
      "\n",
      "* A 1D array of 10M samples recorded from an electrode\n",
      "\n",
      "<table style='margin-left: 50px'>\n",
      "<!--<tr><td>0</td><td>1</td><td>2</td><td>3</td><td>4</td><td>5</td><td>&nbsp;&nbsp;.&nbsp;&nbsp;&nbsp;.&nbsp;&nbsp;&nbsp;.&nbsp;&nbsp;</td><td>9999999</td></tr>-->\n",
      "<tr><td>0.0531</td><td>0.0547</td><td>0.0522</td><td>0.0525</td><td>0.0536</td><td>0.0531</td><td>&nbsp;&nbsp;.&nbsp;&nbsp;&nbsp;.&nbsp;&nbsp;&nbsp;.&nbsp;&nbsp;</td><td>0.0530</td></tr>\n",
      "</table>\n",
      "\n",
      "* A 5x5 (2D) matrix\n",
      "\n",
      "<table style='margin-left: 50px'>\n",
      "<tr><td>&nbsp;1&nbsp;</td><td>&nbsp;0&nbsp;</td><td>&nbsp;0&nbsp;</td><td>&nbsp;0&nbsp;</td><td>&nbsp;0&nbsp;</td></tr>\n",
      "<tr><td>&nbsp;0&nbsp;</td><td>&nbsp;1&nbsp;</td><td>&nbsp;0&nbsp;</td><td>&nbsp;0&nbsp;</td><td>&nbsp;0&nbsp;</td></tr>\n",
      "<tr><td>&nbsp;0&nbsp;</td><td>&nbsp;0&nbsp;</td><td>&nbsp;1&nbsp;</td><td>&nbsp;0&nbsp;</td><td>&nbsp;0&nbsp;</td></tr>\n",
      "<tr><td>&nbsp;0&nbsp;</td><td>&nbsp;0&nbsp;</td><td>&nbsp;0&nbsp;</td><td>&nbsp;1&nbsp;</td><td>&nbsp;0&nbsp;</td></tr>\n",
      "<tr><td>&nbsp;0&nbsp;</td><td>&nbsp;0&nbsp;</td><td>&nbsp;0&nbsp;</td><td>&nbsp;0&nbsp;</td><td>&nbsp;1&nbsp;</td></tr>\n",
      "</table>\n",
      "\n",
      "* A 500x500 pixel image with 3 color channels (3D)\n",
      "\n",
      "<img src=\"files/rgb_array.svg\" style=\"margin-left: 50px\">\n",
      "\n",
      "\n",
      "## Why are arrays useful?\n",
      "\n",
      "* They are fast\n",
      "* They use memory efficiently\n",
      "* Used correctly, they can make your code more concise\n",
      "\n",
      "In principle, we could create multi-dimensional array-like structures simply by nesting Python lists together. In practice, this approach is tedious and inefficient.\n",
      "\n",
      "As an example, let's try constructing a 2D array out of nested Python lists, and compare this approach to using NumPy arrays. \n",
      "I will build an \"array\" of random numbers that is 200 columns x 10k rows:\n"
     ]
    },
    {
     "cell_type": "code",
     "collapsed": false,
     "input": [
      "import random\n",
      "\n",
      "rows = 50000\n",
      "cols = 200\n",
      "\n",
      "# Create a list that is 50,000 rows long, where each item in the list\n",
      "# is a nested list of 200 random values.\n",
      "data = []\n",
      "for i in range(rows):\n",
      "    row = []\n",
      "    for j in range(cols):\n",
      "        row.append(random.random())\n",
      "    data.append(row)\n",
      "\n",
      "    # display a small subset of this \"array\"\n",
      "    if i < 10:\n",
      "        print row[:5]"
     ],
     "language": "python",
     "metadata": {},
     "outputs": [
      {
       "output_type": "stream",
       "stream": "stdout",
       "text": [
        "[0.662851706295572, 0.04394568635457585, 0.5311959643345244, 0.6328733256188063, 0.487947557468847]\n",
        "[0.12428324780044508, 0.33074039519659815, 0.8044962612556451, 0.8169015228312878, 0.5530088037552067]\n",
        "[0.19285817135269578, 0.7569243948055198, 0.5277201338105283, 0.9683632829197097, 0.7588511349437514]\n",
        "[0.13240549638599564, 0.6406530011193398, 0.08044500752937833, 0.5105101094476377, 0.6306775315718659]\n",
        "[0.29398086787573174, 0.6428305432906464, 0.22841767935571688, 0.4385835781271561, 0.22769719031763114]\n",
        "[0.8968961215814832, 0.6718132041142142, 0.09536579506163578, 0.19906695980765143, 0.9680975113151918]\n",
        "[0.7046117379876706, 0.503544585931569, 0.746657887416503, 0.27885760807803184, 0.9543228984125784]\n",
        "[0.36393424272860964, 0.06252867631618286, 0.5315272979088252, 0.8243800541368017, 0.7173536917228442]\n",
        "[0.19858938519869063, 0.46242224049875635, 0.9449714872797449, 0.7758238857419004, 0.18903137348764742]\n",
        "[0.2858405794762551, 0.47432789328237956, 0.32164964669936846, 0.0076436075323794705, 0.2846787248489365]\n"
       ]
      }
     ],
     "prompt_number": 2
    },
    {
     "cell_type": "markdown",
     "metadata": {},
     "source": [
      "--------------------------------\n",
      "\n",
      "I want to calculate the mean value of every column:\n"
     ]
    },
    {
     "cell_type": "code",
     "collapsed": false,
     "input": [
      "# For each column, collect all values in the column and then compute the average.\n",
      "meanvals = []\n",
      "for j in range(cols):\n",
      "    col = [row[j] for row in data]\n",
      "    meanvals.append(sum(col) / rows)\n",
      "    \n",
      "print meanvals[:5]"
     ],
     "language": "python",
     "metadata": {},
     "outputs": [
      {
       "output_type": "stream",
       "stream": "stdout",
       "text": [
        "[0.49930861173013763, 0.5011335632488909, 0.49993389694863843, 0.49945547241554994, 0.5021172819032693]\n"
       ]
      }
     ],
     "prompt_number": 3
    },
    {
     "cell_type": "markdown",
     "metadata": {},
     "source": [
      "--------------------------------\n",
      "This code works, but it is:\n",
      "\n",
      "* Slow - Python lists can contain mixed data types. One consequence is that when we add up values in a column, Python has to check *each* value to make sure it is a numerical type that can be added to the running total. If the array is large, that overhead can add up quickly!\n",
      "\n",
      "* Memory-inefficient - We should be able to represent this data set using `rows * cols = 2e6 numbers`, plus some small overhead. Python lists have about 1kB of memory overhead *per* *list*, which again can add up quickly. If your data just barely fits in memory, this will ruin your day.\n",
      "\n",
      "* Verbose - this very simple task can be written much more compactly with the right tools.\n"
     ]
    },
    {
     "cell_type": "markdown",
     "metadata": {},
     "source": [
      "##NumPy to the rescue\n",
      "\n",
      "NumPy is a third-party Python package used by nearly every other package in the scientific Python stack. It provides a crucial data type--`ndarray`--that allows us to create and manipulate real multi-dimensional arrays. NumPy also provides optimized tools for performing many numerical computations on arrays.\n"
     ]
    },
    {
     "cell_type": "code",
     "collapsed": false,
     "input": [
      "import numpy as np\n",
      "\n",
      "data = np.random.random(size=(rows, cols))\n",
      "meanvals = data.mean(axis=0)\n",
      "print meanvals[:5]"
     ],
     "language": "python",
     "metadata": {},
     "outputs": [
      {
       "output_type": "stream",
       "stream": "stdout",
       "text": [
        "[ 0.50189245  0.50236846  0.49918611  0.49913553  0.50354709]\n"
       ]
      }
     ],
     "prompt_number": 4
    },
    {
     "cell_type": "markdown",
     "metadata": {},
     "source": [
      "* https://docs.scipy.org/doc/numpy-dev/reference/generated/numpy.random.random.html\n",
      "* https://docs.scipy.org/doc/numpy/reference/generated/numpy.ndarray.mean.html\n",
      "\n",
      "---------------------------\n",
      "These three lines of code replace the 16 lines that it took to perform this operation with lists, and it runs in a small fraction of the time. \n",
      "\n",
      "Let's explore the array object we just created:"
     ]
    },
    {
     "cell_type": "code",
     "collapsed": false,
     "input": [
      "# numpy arrays have a set number of dimensions:\n",
      "data.ndim"
     ],
     "language": "python",
     "metadata": {},
     "outputs": [
      {
       "metadata": {},
       "output_type": "pyout",
       "prompt_number": 5,
       "text": [
        "2"
       ]
      }
     ],
     "prompt_number": 5
    },
    {
     "cell_type": "code",
     "collapsed": false,
     "input": [
      "# each dimension has a specific length\n",
      "data.shape"
     ],
     "language": "python",
     "metadata": {},
     "outputs": [
      {
       "metadata": {},
       "output_type": "pyout",
       "prompt_number": 6,
       "text": [
        "(50000, 200)"
       ]
      }
     ],
     "prompt_number": 6
    },
    {
     "cell_type": "code",
     "collapsed": false,
     "input": [
      "# The total number of items in this array (200 * 50k) is given by the `size` attribute\n",
      "data.size"
     ],
     "language": "python",
     "metadata": {},
     "outputs": [
      {
       "metadata": {},
       "output_type": "pyout",
       "prompt_number": 7,
       "text": [
        "10000000"
       ]
      }
     ],
     "prompt_number": 7
    },
    {
     "cell_type": "code",
     "collapsed": false,
     "input": [
      "# The array's memory usage is the number of items (200 * 50k)\n",
      "# times the number of bytes used by each item\n",
      "data.size * data.itemsize"
     ],
     "language": "python",
     "metadata": {},
     "outputs": [
      {
       "metadata": {},
       "output_type": "pyout",
       "prompt_number": 8,
       "text": [
        "80000000"
       ]
      }
     ],
     "prompt_number": 8
    },
    {
     "cell_type": "markdown",
     "metadata": {},
     "source": [
      "----------------------------\n",
      "This array uses 80MB of memory to represent 10M values. Why do we use 8 bytes for each item?"
     ]
    },
    {
     "cell_type": "code",
     "collapsed": false,
     "input": [
      "# all items in the array share the same data type\n",
      "data.dtype"
     ],
     "language": "python",
     "metadata": {},
     "outputs": [
      {
       "metadata": {},
       "output_type": "pyout",
       "prompt_number": 9,
       "text": [
        "dtype('float64')"
       ]
      }
     ],
     "prompt_number": 9
    },
    {
     "cell_type": "markdown",
     "metadata": {},
     "source": [
      "-----------------------------\n",
      "\n",
      "All elements in the array are of the same data type, a 64-bit (8 byte) floating-point number.\n",
      "\n",
      "This is the default *dtype*, but there are many other options we can pick from. Whether we *care* enough to worry about dtype depends on what we want to do with the array, and whether we are likely to run out of memory.\n",
      "\n",
      "| dtype  | bytes     | precision  | approx. range       |\n",
      "|--------|-----------|------------|---------------------|\n",
      "|float64 | 8         | 16         | \u00b110<sup>308</sup>   |\n",
      "|float32 | 4         | 7          | \u00b110<sup>38</sup>    |\n",
      "|int64   | 8         | 0          | \u00b110<sup>18</sup>    |\n",
      "|int32   | 4         | 0          | \u00b110<sup>9</sup>     |\n",
      "|int16   | 2         | 0          | \u00b110<sup>4</sup>     |\n",
      "|uint64  | 8         | 0          | 0 to 10<sup>19</sup>|\n",
      "|uint32  | 4         | 0          | 0 to 10<sup>9</sup> |\n",
      "|uint16  | 2         | 0          | 0 to 10<sup>4</sup> |\n",
      "|byte    | 1         | 0          | 0-255               |\n",
      "|bool    | 1         | 0          | 0-1                 |\n",
      "\n",
      "* https://docs.scipy.org/doc/numpy-1.10.1/user/basics.types.html\n",
      "\n",
      "----------------------\n",
      "\n",
      "To convert the array to a different dtype, use the *astype()* method."
     ]
    },
    {
     "cell_type": "code",
     "collapsed": false,
     "input": [
      "smaller_data = data.astype('float32')\n",
      "\n",
      "# This should be half the size of the original array\n",
      "smaller_data.size * smaller_data.itemsize"
     ],
     "language": "python",
     "metadata": {},
     "outputs": [
      {
       "metadata": {},
       "output_type": "pyout",
       "prompt_number": 10,
       "text": [
        "40000000"
       ]
      }
     ],
     "prompt_number": 10
    },
    {
     "cell_type": "markdown",
     "metadata": {},
     "source": [
      "##Creating new arrays\n",
      "\n",
      "NumPy offers several mechanisms for creating new arrays. Let's look at a few of the more common approaches:\n",
      "\n",
      "-----------------------\n",
      "\n",
      "**Nested lists**"
     ]
    },
    {
     "cell_type": "code",
     "collapsed": false,
     "input": [
      "# Create an array from nested lists\n",
      "nested_lists = [[1,2], [3,4], [5,6], [7,8]]\n",
      "arr1 = np.array(nested_lists)\n",
      "print arr1"
     ],
     "language": "python",
     "metadata": {},
     "outputs": [
      {
       "output_type": "stream",
       "stream": "stdout",
       "text": [
        "[[1 2]\n",
        " [3 4]\n",
        " [5 6]\n",
        " [7 8]]\n"
       ]
      }
     ],
     "prompt_number": 14
    },
    {
     "cell_type": "code",
     "collapsed": false,
     "input": [
      "# `data` is a list of length 4, and each of its items is a nested list of length 2.\n",
      "# This corresponds to an array shape (4, 2)\n",
      "arr1.shape"
     ],
     "language": "python",
     "metadata": {},
     "outputs": [
      {
       "metadata": {},
       "output_type": "pyout",
       "prompt_number": 15,
       "text": [
        "(4, 2)"
       ]
      }
     ],
     "prompt_number": 15
    },
    {
     "cell_type": "markdown",
     "metadata": {},
     "source": [
      "-------------------------\n",
      "**zeros()**"
     ]
    },
    {
     "cell_type": "code",
     "collapsed": false,
     "input": [
      "# Create an array of a certain shape and dtype, filled with zeros\n",
      "arr2 = np.zeros((5, 10), dtype='uint16')\n",
      "print arr2\n",
      "print \"shape:\", arr2.shape, \"dtype:\", arr2.dtype"
     ],
     "language": "python",
     "metadata": {},
     "outputs": [
      {
       "output_type": "stream",
       "stream": "stdout",
       "text": [
        "[[0 0 0 0 0 0 0 0 0 0]\n",
        " [0 0 0 0 0 0 0 0 0 0]\n",
        " [0 0 0 0 0 0 0 0 0 0]\n",
        " [0 0 0 0 0 0 0 0 0 0]\n",
        " [0 0 0 0 0 0 0 0 0 0]]\n",
        "shape: (5, 10) dtype: uint16\n"
       ]
      }
     ],
     "prompt_number": 17
    },
    {
     "cell_type": "markdown",
     "metadata": {},
     "source": [
      "-------------------------\n",
      "**arange()**"
     ]
    },
    {
     "cell_type": "code",
     "collapsed": false,
     "input": [
      "# Create a 1D array of consecutive integers \n",
      "np.arange(5, 11)"
     ],
     "language": "python",
     "metadata": {},
     "outputs": [
      {
       "metadata": {},
       "output_type": "pyout",
       "prompt_number": 18,
       "text": [
        "array([ 5,  6,  7,  8,  9, 10])"
       ]
      }
     ],
     "prompt_number": 18
    },
    {
     "cell_type": "markdown",
     "metadata": {},
     "source": [
      "-----------------------\n",
      "\n",
      "**fromfunction()**"
     ]
    },
    {
     "cell_type": "code",
     "collapsed": false,
     "input": [
      "# Create an array and fill it with values generated by a function.\n",
      "# For each element in the new array, the function will be called with the element's indices as its arguments.\n",
      "def gauss(x, y):\n",
      "    center = (5, 5)\n",
      "    sigma = 3.5\n",
      "    dist = ((x-center[0])**2 + (y-center[1])**2) ** 0.5\n",
      "    return 100 * np.exp(-dist**2 / sigma)\n",
      "\n",
      "arr3 = np.fromfunction(gauss, (10, 10))\n",
      "print arr3.astype('int')  # convert to int for easier reading\n",
      "\n",
      "# just for fun, let's visualize that as an image\n",
      "from matplotlib.pylab import imshow\n",
      "%matplotlib inline\n",
      "imshow(arr3, interpolation='none')"
     ],
     "language": "python",
     "metadata": {},
     "outputs": [
      {
       "output_type": "stream",
       "stream": "stdout",
       "text": [
        "[[  0   0   0   0   0   0   0   0   0   0]\n",
        " [  0   0   0   0   0   1   0   0   0   0]\n",
        " [  0   0   0   2   5   7   5   2   0   0]\n",
        " [  0   0   2  10  23  31  23  10   2   0]\n",
        " [  0   0   5  23  56  75  56  23   5   0]\n",
        " [  0   1   7  31  75 100  75  31   7   1]\n",
        " [  0   0   5  23  56  75  56  23   5   0]\n",
        " [  0   0   2  10  23  31  23  10   2   0]\n",
        " [  0   0   0   2   5   7   5   2   0   0]\n",
        " [  0   0   0   0   0   1   0   0   0   0]]\n"
       ]
      },
      {
       "metadata": {},
       "output_type": "pyout",
       "prompt_number": 27,
       "text": [
        "<matplotlib.image.AxesImage at 0x7f21b7499950>"
       ]
      },
      {
       "metadata": {},
       "output_type": "display_data",
       "png": "[encoded data removed]",
       "text": [
        "<matplotlib.figure.Figure at 0x7f21bc8a5150>"
       ]
      }
     ],
     "prompt_number": 27
    },
    {
     "cell_type": "markdown",
     "metadata": {},
     "source": [
      "##Accessing single values from arrays"
     ]
    },
    {
     "cell_type": "code",
     "collapsed": false,
     "input": [
      "# Create a small array to play with\n",
      "arr4 = np.array([[1,2,3,4,5], [6,7,8,9,10], [11,12,13,14,15]])\n",
      "print arr4"
     ],
     "language": "python",
     "metadata": {},
     "outputs": [
      {
       "output_type": "stream",
       "stream": "stdout",
       "text": [
        "[[ 1  2  3  4  5]\n",
        " [ 6  7  8  9 10]\n",
        " [11 12 13 14 15]]\n"
       ]
      }
     ],
     "prompt_number": 38
    },
    {
     "cell_type": "code",
     "collapsed": false,
     "input": [
      "# To read a single value from the array, we index the array using [] notation\n",
      "# and supply a comma-separated list of indices, one per axis\n",
      "print arr4[2, 3]"
     ],
     "language": "python",
     "metadata": {},
     "outputs": [
      {
       "output_type": "stream",
       "stream": "stdout",
       "text": [
        "14\n"
       ]
      }
     ],
     "prompt_number": 39
    },
    {
     "cell_type": "code",
     "collapsed": false,
     "input": [
      "# To change one value in the array:\n",
      "arr4[1, 2] = -1\n",
      "print arr4"
     ],
     "language": "python",
     "metadata": {},
     "outputs": [
      {
       "output_type": "stream",
       "stream": "stdout",
       "text": [
        "[[ 1  2  3  4  5]\n",
        " [ 6  7 -1  9 10]\n",
        " [11 12 13 14 15]]\n"
       ]
      }
     ],
     "prompt_number": 44
    },
    {
     "cell_type": "code",
     "collapsed": false,
     "input": [
      "####################  Exercise  ####################\n",
      "#\n",
      "# Write a for-loop that adds 1 to each item in arr4\n"
     ],
     "language": "python",
     "metadata": {},
     "outputs": []
    },
    {
     "cell_type": "markdown",
     "metadata": {},
     "source": [
      "##Arithmetic with arrays"
     ]
    },
    {
     "cell_type": "markdown",
     "metadata": {},
     "source": [
      "##Accessing array sub-regions (slicing)"
     ]
    },
    {
     "cell_type": "markdown",
     "metadata": {},
     "source": [
      "##Array concatenation (stacking)"
     ]
    },
    {
     "cell_type": "markdown",
     "metadata": {},
     "source": [
      "##Masking and fancy indexing"
     ]
    },
    {
     "cell_type": "code",
     "collapsed": false,
     "input": [],
     "language": "python",
     "metadata": {},
     "outputs": []
    }
   ],
   "metadata": {}
  }
 ]
}